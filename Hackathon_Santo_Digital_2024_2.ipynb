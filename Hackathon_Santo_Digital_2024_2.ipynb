{
  "nbformat": 4,
  "nbformat_minor": 0,
  "metadata": {
    "colab": {
      "provenance": [],
      "collapsed_sections": [
        "LmtWriQAvWNG",
        "7XbMUm0NtUMM"
      ]
    },
    "kernelspec": {
      "name": "python3",
      "display_name": "Python 3"
    },
    "language_info": {
      "name": "python"
    }
  },
  "cells": [
    {
      "cell_type": "markdown",
      "source": [
        "# Hackathon Santo Digital\n",
        "\n",
        "Esse Notebook foi criado com o intuito de resolver um case proposto pela Santo Digital com o objetivo de criar um modelo de machine learning que possa prever a demanda de vendas de um produto específico para o próximo mês. referente ao desafio de número IV\n",
        "\n",
        "As etapas propostas foram:\n",
        "1. Análise Exploratória de Dados (EDA);\n",
        "2. Pré-processamento de Dados;\n",
        "3. Feature Engineering;\n",
        "4. Modelagem;\n",
        "5. Ajuste de modelo.\n"
      ],
      "metadata": {
        "id": "Q7BfSDCaq9G0"
      }
    },
    {
      "cell_type": "markdown",
      "source": [
        "## Unificando os relatórios de Sales"
      ],
      "metadata": {
        "id": "LmtWriQAvWNG"
      }
    },
    {
      "cell_type": "code",
      "source": [
        "import pandas as pd\n",
        "\n",
        "file_paths = ['/content/AdventureWorks_Sales_2015.csv', '/content/AdventureWorks_Sales_2016.csv', '/content/AdventureWorks_Sales_2017.csv']  # Substitua pelos nomes dos seus arquivos\n",
        "\n",
        "dfs = []\n",
        "\n",
        "for file_path in file_paths:\n",
        "  df = pd.read_csv(file_path)\n",
        "  dfs.append(df)\n",
        "\n",
        "combined_df = pd.concat(dfs, ignore_index=True)\n",
        "\n",
        "combined_df.to_csv('/content/Sales.csv', index=False)\n"
      ],
      "metadata": {
        "id": "S8Hx-a-WuScL"
      },
      "execution_count": 421,
      "outputs": []
    },
    {
      "cell_type": "code",
      "source": [
        "sales = pd.read_csv('/content/Sales.csv')"
      ],
      "metadata": {
        "id": "kQ6bXR8Esesa"
      },
      "execution_count": 422,
      "outputs": []
    },
    {
      "cell_type": "code",
      "source": [
        "sales.columns"
      ],
      "metadata": {
        "colab": {
          "base_uri": "https://localhost:8080/"
        },
        "id": "AQPrsAL7vLIV",
        "outputId": "12a9dddc-02ce-4057-a4df-0d256472f04a"
      },
      "execution_count": 423,
      "outputs": [
        {
          "output_type": "execute_result",
          "data": {
            "text/plain": [
              "Index(['OrderDate', 'StockDate', 'OrderNumber', 'ProductKey', 'CustomerKey',\n",
              "       'TerritoryKey', 'OrderLineItem', 'OrderQuantity'],\n",
              "      dtype='object')"
            ]
          },
          "metadata": {},
          "execution_count": 423
        }
      ]
    },
    {
      "cell_type": "markdown",
      "source": [
        "#### Carregando os demais arquivos csv\n"
      ],
      "metadata": {
        "id": "VnQdDUY43cyk"
      }
    },
    {
      "cell_type": "code",
      "source": [
        "# Carregar os CSVs\n",
        "customers = pd.read_csv('/content/AdventureWorks_Customers.csv', encoding='latin-1')\n",
        "products = pd.read_csv('/content/AdventureWorks_Products.csv')\n",
        "categories = pd.read_csv('/content/AdventureWorks_Product_Categories.csv')\n",
        "subcategories = pd.read_csv('/content/AdventureWorks_Product_Subcategories.csv')\n",
        "returns = pd.read_csv('/content/AdventureWorks_Returns.csv')\n",
        "territories = pd.read_csv('/content/AdventureWorks_Territories.csv')"
      ],
      "metadata": {
        "id": "ISl5NAby3Vdx"
      },
      "execution_count": 424,
      "outputs": []
    },
    {
      "cell_type": "code",
      "source": [
        "# Converter OrderDate para datetime e extrair informações de tempo\n",
        "sales['OrderDate'] = pd.to_datetime(sales['OrderDate'])\n",
        "sales['Month'] = sales['OrderDate'].dt.month\n",
        "sales['Year'] = sales['OrderDate'].dt.year"
      ],
      "metadata": {
        "id": "C2pEe6kz4gWs"
      },
      "execution_count": 425,
      "outputs": []
    },
    {
      "cell_type": "markdown",
      "source": [
        "#### Unindo datasets\n",
        "\n",
        "Nesta etapa eu estarei estreitando relacionamentos entre os arquivos para que consiga pegar as informações desejadas e unir em um unico dataset.\n",
        "\n",
        "Aqui já estarei fazendo algumas tratativas de feasture engineering mais básicas, como extrair idade do campo de data de nascimento."
      ],
      "metadata": {
        "id": "Pn_PTS3X3-6-"
      }
    },
    {
      "cell_type": "code",
      "source": [
        "# Adicionar informações de produtos\n",
        "sales = sales.merge(products, on='ProductKey', how='left')"
      ],
      "metadata": {
        "id": "vCdQXZ5x4P6M"
      },
      "execution_count": 426,
      "outputs": []
    },
    {
      "cell_type": "code",
      "source": [
        "# Adicionar informações de clientes\n",
        "sales = sales.merge(customers, on='CustomerKey', how='left')"
      ],
      "metadata": {
        "id": "uLHD_Pbg4Xsj"
      },
      "execution_count": 427,
      "outputs": []
    },
    {
      "cell_type": "code",
      "source": [
        "# Estou considerando o current_year como 2017, pois, devido a quantidade de vendas no dataset 'Sales_2017', aparenta ter vendas até o mês 7,\n",
        "# o que possivelmente indicaria que ainda estariamos em 2017.\n",
        "\n",
        "current_year = 2017\n",
        "sales['Age'] = current_year - pd.to_datetime(sales['BirthDate']).dt.year"
      ],
      "metadata": {
        "id": "yzSjlSn-4jvk"
      },
      "execution_count": 428,
      "outputs": []
    },
    {
      "cell_type": "code",
      "source": [
        "# Adicionar categorias e subcategorias de produtos\n",
        "sales = sales.merge(subcategories, on='ProductSubcategoryKey', how='left')\n",
        "sales = sales.merge(categories, on='ProductCategoryKey', how='left')"
      ],
      "metadata": {
        "id": "4eJNlAkd5xkG"
      },
      "execution_count": 429,
      "outputs": []
    },
    {
      "cell_type": "code",
      "source": [
        "# Adicionar informações territoriais\n",
        "sales = sales.merge(territories, left_on='TerritoryKey', right_on='SalesTerritoryKey', how='left')"
      ],
      "metadata": {
        "id": "hjPZdyX250ia"
      },
      "execution_count": 430,
      "outputs": []
    },
    {
      "cell_type": "code",
      "source": [
        "# Visualizando as colunas de Sales após uniões\n",
        "sales.columns"
      ],
      "metadata": {
        "colab": {
          "base_uri": "https://localhost:8080/"
        },
        "id": "sMB7gizd6FQL",
        "outputId": "6cc1a396-874c-4ccb-eda4-0e7507f8c425"
      },
      "execution_count": 431,
      "outputs": [
        {
          "output_type": "execute_result",
          "data": {
            "text/plain": [
              "Index(['OrderDate', 'StockDate', 'OrderNumber', 'ProductKey', 'CustomerKey',\n",
              "       'TerritoryKey', 'OrderLineItem', 'OrderQuantity', 'Month', 'Year',\n",
              "       'ProductSubcategoryKey', 'ProductSKU', 'ProductName', 'ModelName',\n",
              "       'ProductDescription', 'ProductColor', 'ProductSize', 'ProductStyle',\n",
              "       'ProductCost', 'ProductPrice', 'Prefix', 'FirstName', 'LastName',\n",
              "       'BirthDate', 'MaritalStatus', 'Gender', 'EmailAddress', 'AnnualIncome',\n",
              "       'TotalChildren', 'EducationLevel', 'Occupation', 'HomeOwner', 'Age',\n",
              "       'SubcategoryName', 'ProductCategoryKey', 'CategoryName',\n",
              "       'SalesTerritoryKey', 'Region', 'Country', 'Continent'],\n",
              "      dtype='object')"
            ]
          },
          "metadata": {},
          "execution_count": 431
        }
      ]
    },
    {
      "cell_type": "code",
      "source": [
        "# Selecionando as colunas para o dataset final\n",
        "final_dataset = sales[[\n",
        "            'OrderDate', 'Month', 'Year',  'ProductName',\n",
        "            'SubcategoryName', 'CategoryName', 'ProductColor', 'ProductSize', 'ProductStyle',\n",
        "            'ProductCost', 'ProductPrice', 'Prefix', 'FirstName', 'LastName',  'Age', 'MaritalStatus',\n",
        "            'Gender', 'AnnualIncome', 'TotalChildren', 'EducationLevel', 'HomeOwner',\n",
        "            'Occupation', 'Region', 'Country', 'Continent',\n",
        "            'OrderQuantity'\n",
        "        ]]"
      ],
      "metadata": {
        "id": "rR6ZOpFC6AG4"
      },
      "execution_count": 432,
      "outputs": []
    },
    {
      "cell_type": "code",
      "source": [
        "# Tirando o _x do nome das colunas\n",
        "final_dataset = final_dataset.rename(columns=lambda x: x.rstrip('_x'))\n",
        "final_dataset = final_dataset.rename(columns={'Prefi': 'Prefix'})"
      ],
      "metadata": {
        "id": "UmK30fAt8M6P"
      },
      "execution_count": 433,
      "outputs": []
    },
    {
      "cell_type": "code",
      "source": [
        "final_dataset.columns"
      ],
      "metadata": {
        "colab": {
          "base_uri": "https://localhost:8080/"
        },
        "id": "gUV7HcBK8T0n",
        "outputId": "2d6f6256-23b2-46e8-c07e-c7e4782db887"
      },
      "execution_count": 434,
      "outputs": [
        {
          "output_type": "execute_result",
          "data": {
            "text/plain": [
              "Index(['OrderDate', 'Month', 'Year', 'ProductName', 'SubcategoryName',\n",
              "       'CategoryName', 'ProductColor', 'ProductSize', 'ProductStyle',\n",
              "       'ProductCost', 'ProductPrice', 'Prefix', 'FirstName', 'LastName', 'Age',\n",
              "       'MaritalStatus', 'Gender', 'AnnualIncome', 'TotalChildren',\n",
              "       'EducationLevel', 'HomeOwner', 'Occupation', 'Region', 'Country',\n",
              "       'Continent', 'OrderQuantity'],\n",
              "      dtype='object')"
            ]
          },
          "metadata": {},
          "execution_count": 434
        }
      ]
    },
    {
      "cell_type": "code",
      "source": [
        "# Salvando como um novo csv\n",
        "final_dataset.to_csv('/content/final_dataset.csv', index=False)"
      ],
      "metadata": {
        "id": "iPoraLsb7aEZ"
      },
      "execution_count": 435,
      "outputs": []
    },
    {
      "cell_type": "markdown",
      "source": [
        "#### Conclusão da etapa\n",
        "Os dados extraídos para análise exploratória foram:\n",
        "\n",
        "* Temporal: OrderDate, Month, Year\n",
        "* Product: ProductName, SubcategoryName, ProductColor, ProductSize, ProductStyle, ProductCost, ProductPrice\n",
        "* Customer: FirstName, LastName, Prefix, Age, MaritalStatus, Gender, AnnualIncome, TotalChildren, EducationLevel, HomeOwner, Occupation\n",
        "* Geographic: Region, Country, Continent\n",
        "* Order: OrderQuantity (Target)"
      ],
      "metadata": {
        "id": "UxttTPB571L8"
      }
    },
    {
      "cell_type": "markdown",
      "source": [
        "## Análise Exploratória de Dados (EDA)"
      ],
      "metadata": {
        "id": "7XbMUm0NtUMM"
      }
    },
    {
      "cell_type": "code",
      "source": [
        "# Copiando o dataset para outro DataFrame com nome mais curto para facilitar a escrita do código\n",
        "df = final_dataset.copy()"
      ],
      "metadata": {
        "id": "L7bIlnxQvMPR"
      },
      "execution_count": 436,
      "outputs": []
    },
    {
      "cell_type": "markdown",
      "source": [
        "#### Dados Nulos\n",
        "\n",
        "A única coluna com dados nulos é a de ProductColor, Prefix e Gender"
      ],
      "metadata": {
        "id": "8SPL-TWJ9TFB"
      }
    },
    {
      "cell_type": "code",
      "source": [
        "# Identificando possíveis dados nulos\n",
        "df.info()"
      ],
      "metadata": {
        "colab": {
          "base_uri": "https://localhost:8080/"
        },
        "id": "U9vYfYOB885w",
        "outputId": "a495c477-5feb-4dd5-fe2d-9ddd424225a3"
      },
      "execution_count": 437,
      "outputs": [
        {
          "output_type": "stream",
          "name": "stdout",
          "text": [
            "<class 'pandas.core.frame.DataFrame'>\n",
            "RangeIndex: 56046 entries, 0 to 56045\n",
            "Data columns (total 26 columns):\n",
            " #   Column           Non-Null Count  Dtype         \n",
            "---  ------           --------------  -----         \n",
            " 0   OrderDate        56046 non-null  datetime64[ns]\n",
            " 1   Month            56046 non-null  int32         \n",
            " 2   Year             56046 non-null  int32         \n",
            " 3   ProductName      56046 non-null  object        \n",
            " 4   SubcategoryName  56046 non-null  object        \n",
            " 5   CategoryName     56046 non-null  object        \n",
            " 6   ProductColor     29168 non-null  object        \n",
            " 7   ProductSize      56046 non-null  object        \n",
            " 8   ProductStyle     56046 non-null  object        \n",
            " 9   ProductCost      56046 non-null  float64       \n",
            " 10  ProductPrice     56046 non-null  float64       \n",
            " 11  Prefix           55666 non-null  object        \n",
            " 12  FirstName        56046 non-null  object        \n",
            " 13  LastName         56046 non-null  object        \n",
            " 14  Age              56046 non-null  int32         \n",
            " 15  MaritalStatus    56046 non-null  object        \n",
            " 16  Gender           55666 non-null  object        \n",
            " 17  AnnualIncome     56046 non-null  object        \n",
            " 18  TotalChildren    56046 non-null  int64         \n",
            " 19  EducationLevel   56046 non-null  object        \n",
            " 20  HomeOwner        56046 non-null  object        \n",
            " 21  Occupation       56046 non-null  object        \n",
            " 22  Region           56046 non-null  object        \n",
            " 23  Country          56046 non-null  object        \n",
            " 24  Continent        56046 non-null  object        \n",
            " 25  OrderQuantity    56046 non-null  int64         \n",
            "dtypes: datetime64[ns](1), float64(2), int32(3), int64(2), object(18)\n",
            "memory usage: 10.5+ MB\n"
          ]
        }
      ]
    },
    {
      "cell_type": "code",
      "source": [
        "df.describe()"
      ],
      "metadata": {
        "colab": {
          "base_uri": "https://localhost:8080/",
          "height": 0
        },
        "id": "HZsRhMFs9GWk",
        "outputId": "990508ab-11c0-4f61-bddb-d87a0c82fe8a"
      },
      "execution_count": 438,
      "outputs": [
        {
          "output_type": "execute_result",
          "data": {
            "text/plain": [
              "                           OrderDate         Month          Year  \\\n",
              "count                          56046  56046.000000  56046.000000   \n",
              "mean   2016-12-16 18:39:22.487956224      6.296631   2016.479089   \n",
              "min              2015-01-01 00:00:00      1.000000   2015.000000   \n",
              "25%              2016-10-06 00:00:00      3.000000   2016.000000   \n",
              "50%              2017-01-11 00:00:00      6.000000   2017.000000   \n",
              "75%              2017-04-12 00:00:00     10.000000   2017.000000   \n",
              "max              2017-06-30 00:00:00     12.000000   2017.000000   \n",
              "std                              NaN      3.526167      0.586021   \n",
              "\n",
              "        ProductCost  ProductPrice           Age  TotalChildren  OrderQuantity  \n",
              "count  56046.000000  56046.000000  56046.000000   56046.000000   56046.000000  \n",
              "mean     255.750403    438.969347     55.350890       1.843985       1.501873  \n",
              "min        0.856500      2.290000     37.000000       0.000000       1.000000  \n",
              "25%        2.973300      7.950000     47.000000       0.000000       1.000000  \n",
              "50%       11.216300     29.990000     54.000000       2.000000       1.000000  \n",
              "75%       59.466000    159.000000     63.000000       3.000000       2.000000  \n",
              "max     2171.294200   3578.270000    107.000000       5.000000       3.000000  \n",
              "std      496.192920    838.650049     11.013478       1.619434       0.612379  "
            ],
            "text/html": [
              "\n",
              "  <div id=\"df-91874d78-84b1-4486-8bff-620fee122555\" class=\"colab-df-container\">\n",
              "    <div>\n",
              "<style scoped>\n",
              "    .dataframe tbody tr th:only-of-type {\n",
              "        vertical-align: middle;\n",
              "    }\n",
              "\n",
              "    .dataframe tbody tr th {\n",
              "        vertical-align: top;\n",
              "    }\n",
              "\n",
              "    .dataframe thead th {\n",
              "        text-align: right;\n",
              "    }\n",
              "</style>\n",
              "<table border=\"1\" class=\"dataframe\">\n",
              "  <thead>\n",
              "    <tr style=\"text-align: right;\">\n",
              "      <th></th>\n",
              "      <th>OrderDate</th>\n",
              "      <th>Month</th>\n",
              "      <th>Year</th>\n",
              "      <th>ProductCost</th>\n",
              "      <th>ProductPrice</th>\n",
              "      <th>Age</th>\n",
              "      <th>TotalChildren</th>\n",
              "      <th>OrderQuantity</th>\n",
              "    </tr>\n",
              "  </thead>\n",
              "  <tbody>\n",
              "    <tr>\n",
              "      <th>count</th>\n",
              "      <td>56046</td>\n",
              "      <td>56046.000000</td>\n",
              "      <td>56046.000000</td>\n",
              "      <td>56046.000000</td>\n",
              "      <td>56046.000000</td>\n",
              "      <td>56046.000000</td>\n",
              "      <td>56046.000000</td>\n",
              "      <td>56046.000000</td>\n",
              "    </tr>\n",
              "    <tr>\n",
              "      <th>mean</th>\n",
              "      <td>2016-12-16 18:39:22.487956224</td>\n",
              "      <td>6.296631</td>\n",
              "      <td>2016.479089</td>\n",
              "      <td>255.750403</td>\n",
              "      <td>438.969347</td>\n",
              "      <td>55.350890</td>\n",
              "      <td>1.843985</td>\n",
              "      <td>1.501873</td>\n",
              "    </tr>\n",
              "    <tr>\n",
              "      <th>min</th>\n",
              "      <td>2015-01-01 00:00:00</td>\n",
              "      <td>1.000000</td>\n",
              "      <td>2015.000000</td>\n",
              "      <td>0.856500</td>\n",
              "      <td>2.290000</td>\n",
              "      <td>37.000000</td>\n",
              "      <td>0.000000</td>\n",
              "      <td>1.000000</td>\n",
              "    </tr>\n",
              "    <tr>\n",
              "      <th>25%</th>\n",
              "      <td>2016-10-06 00:00:00</td>\n",
              "      <td>3.000000</td>\n",
              "      <td>2016.000000</td>\n",
              "      <td>2.973300</td>\n",
              "      <td>7.950000</td>\n",
              "      <td>47.000000</td>\n",
              "      <td>0.000000</td>\n",
              "      <td>1.000000</td>\n",
              "    </tr>\n",
              "    <tr>\n",
              "      <th>50%</th>\n",
              "      <td>2017-01-11 00:00:00</td>\n",
              "      <td>6.000000</td>\n",
              "      <td>2017.000000</td>\n",
              "      <td>11.216300</td>\n",
              "      <td>29.990000</td>\n",
              "      <td>54.000000</td>\n",
              "      <td>2.000000</td>\n",
              "      <td>1.000000</td>\n",
              "    </tr>\n",
              "    <tr>\n",
              "      <th>75%</th>\n",
              "      <td>2017-04-12 00:00:00</td>\n",
              "      <td>10.000000</td>\n",
              "      <td>2017.000000</td>\n",
              "      <td>59.466000</td>\n",
              "      <td>159.000000</td>\n",
              "      <td>63.000000</td>\n",
              "      <td>3.000000</td>\n",
              "      <td>2.000000</td>\n",
              "    </tr>\n",
              "    <tr>\n",
              "      <th>max</th>\n",
              "      <td>2017-06-30 00:00:00</td>\n",
              "      <td>12.000000</td>\n",
              "      <td>2017.000000</td>\n",
              "      <td>2171.294200</td>\n",
              "      <td>3578.270000</td>\n",
              "      <td>107.000000</td>\n",
              "      <td>5.000000</td>\n",
              "      <td>3.000000</td>\n",
              "    </tr>\n",
              "    <tr>\n",
              "      <th>std</th>\n",
              "      <td>NaN</td>\n",
              "      <td>3.526167</td>\n",
              "      <td>0.586021</td>\n",
              "      <td>496.192920</td>\n",
              "      <td>838.650049</td>\n",
              "      <td>11.013478</td>\n",
              "      <td>1.619434</td>\n",
              "      <td>0.612379</td>\n",
              "    </tr>\n",
              "  </tbody>\n",
              "</table>\n",
              "</div>\n",
              "    <div class=\"colab-df-buttons\">\n",
              "\n",
              "  <div class=\"colab-df-container\">\n",
              "    <button class=\"colab-df-convert\" onclick=\"convertToInteractive('df-91874d78-84b1-4486-8bff-620fee122555')\"\n",
              "            title=\"Convert this dataframe to an interactive table.\"\n",
              "            style=\"display:none;\">\n",
              "\n",
              "  <svg xmlns=\"http://www.w3.org/2000/svg\" height=\"24px\" viewBox=\"0 -960 960 960\">\n",
              "    <path d=\"M120-120v-720h720v720H120Zm60-500h600v-160H180v160Zm220 220h160v-160H400v160Zm0 220h160v-160H400v160ZM180-400h160v-160H180v160Zm440 0h160v-160H620v160ZM180-180h160v-160H180v160Zm440 0h160v-160H620v160Z\"/>\n",
              "  </svg>\n",
              "    </button>\n",
              "\n",
              "  <style>\n",
              "    .colab-df-container {\n",
              "      display:flex;\n",
              "      gap: 12px;\n",
              "    }\n",
              "\n",
              "    .colab-df-convert {\n",
              "      background-color: #E8F0FE;\n",
              "      border: none;\n",
              "      border-radius: 50%;\n",
              "      cursor: pointer;\n",
              "      display: none;\n",
              "      fill: #1967D2;\n",
              "      height: 32px;\n",
              "      padding: 0 0 0 0;\n",
              "      width: 32px;\n",
              "    }\n",
              "\n",
              "    .colab-df-convert:hover {\n",
              "      background-color: #E2EBFA;\n",
              "      box-shadow: 0px 1px 2px rgba(60, 64, 67, 0.3), 0px 1px 3px 1px rgba(60, 64, 67, 0.15);\n",
              "      fill: #174EA6;\n",
              "    }\n",
              "\n",
              "    .colab-df-buttons div {\n",
              "      margin-bottom: 4px;\n",
              "    }\n",
              "\n",
              "    [theme=dark] .colab-df-convert {\n",
              "      background-color: #3B4455;\n",
              "      fill: #D2E3FC;\n",
              "    }\n",
              "\n",
              "    [theme=dark] .colab-df-convert:hover {\n",
              "      background-color: #434B5C;\n",
              "      box-shadow: 0px 1px 3px 1px rgba(0, 0, 0, 0.15);\n",
              "      filter: drop-shadow(0px 1px 2px rgba(0, 0, 0, 0.3));\n",
              "      fill: #FFFFFF;\n",
              "    }\n",
              "  </style>\n",
              "\n",
              "    <script>\n",
              "      const buttonEl =\n",
              "        document.querySelector('#df-91874d78-84b1-4486-8bff-620fee122555 button.colab-df-convert');\n",
              "      buttonEl.style.display =\n",
              "        google.colab.kernel.accessAllowed ? 'block' : 'none';\n",
              "\n",
              "      async function convertToInteractive(key) {\n",
              "        const element = document.querySelector('#df-91874d78-84b1-4486-8bff-620fee122555');\n",
              "        const dataTable =\n",
              "          await google.colab.kernel.invokeFunction('convertToInteractive',\n",
              "                                                    [key], {});\n",
              "        if (!dataTable) return;\n",
              "\n",
              "        const docLinkHtml = 'Like what you see? Visit the ' +\n",
              "          '<a target=\"_blank\" href=https://colab.research.google.com/notebooks/data_table.ipynb>data table notebook</a>'\n",
              "          + ' to learn more about interactive tables.';\n",
              "        element.innerHTML = '';\n",
              "        dataTable['output_type'] = 'display_data';\n",
              "        await google.colab.output.renderOutput(dataTable, element);\n",
              "        const docLink = document.createElement('div');\n",
              "        docLink.innerHTML = docLinkHtml;\n",
              "        element.appendChild(docLink);\n",
              "      }\n",
              "    </script>\n",
              "  </div>\n",
              "\n",
              "\n",
              "<div id=\"df-81e0e46f-dcb4-4867-9b7f-fa8c889e1603\">\n",
              "  <button class=\"colab-df-quickchart\" onclick=\"quickchart('df-81e0e46f-dcb4-4867-9b7f-fa8c889e1603')\"\n",
              "            title=\"Suggest charts\"\n",
              "            style=\"display:none;\">\n",
              "\n",
              "<svg xmlns=\"http://www.w3.org/2000/svg\" height=\"24px\"viewBox=\"0 0 24 24\"\n",
              "     width=\"24px\">\n",
              "    <g>\n",
              "        <path d=\"M19 3H5c-1.1 0-2 .9-2 2v14c0 1.1.9 2 2 2h14c1.1 0 2-.9 2-2V5c0-1.1-.9-2-2-2zM9 17H7v-7h2v7zm4 0h-2V7h2v10zm4 0h-2v-4h2v4z\"/>\n",
              "    </g>\n",
              "</svg>\n",
              "  </button>\n",
              "\n",
              "<style>\n",
              "  .colab-df-quickchart {\n",
              "      --bg-color: #E8F0FE;\n",
              "      --fill-color: #1967D2;\n",
              "      --hover-bg-color: #E2EBFA;\n",
              "      --hover-fill-color: #174EA6;\n",
              "      --disabled-fill-color: #AAA;\n",
              "      --disabled-bg-color: #DDD;\n",
              "  }\n",
              "\n",
              "  [theme=dark] .colab-df-quickchart {\n",
              "      --bg-color: #3B4455;\n",
              "      --fill-color: #D2E3FC;\n",
              "      --hover-bg-color: #434B5C;\n",
              "      --hover-fill-color: #FFFFFF;\n",
              "      --disabled-bg-color: #3B4455;\n",
              "      --disabled-fill-color: #666;\n",
              "  }\n",
              "\n",
              "  .colab-df-quickchart {\n",
              "    background-color: var(--bg-color);\n",
              "    border: none;\n",
              "    border-radius: 50%;\n",
              "    cursor: pointer;\n",
              "    display: none;\n",
              "    fill: var(--fill-color);\n",
              "    height: 32px;\n",
              "    padding: 0;\n",
              "    width: 32px;\n",
              "  }\n",
              "\n",
              "  .colab-df-quickchart:hover {\n",
              "    background-color: var(--hover-bg-color);\n",
              "    box-shadow: 0 1px 2px rgba(60, 64, 67, 0.3), 0 1px 3px 1px rgba(60, 64, 67, 0.15);\n",
              "    fill: var(--button-hover-fill-color);\n",
              "  }\n",
              "\n",
              "  .colab-df-quickchart-complete:disabled,\n",
              "  .colab-df-quickchart-complete:disabled:hover {\n",
              "    background-color: var(--disabled-bg-color);\n",
              "    fill: var(--disabled-fill-color);\n",
              "    box-shadow: none;\n",
              "  }\n",
              "\n",
              "  .colab-df-spinner {\n",
              "    border: 2px solid var(--fill-color);\n",
              "    border-color: transparent;\n",
              "    border-bottom-color: var(--fill-color);\n",
              "    animation:\n",
              "      spin 1s steps(1) infinite;\n",
              "  }\n",
              "\n",
              "  @keyframes spin {\n",
              "    0% {\n",
              "      border-color: transparent;\n",
              "      border-bottom-color: var(--fill-color);\n",
              "      border-left-color: var(--fill-color);\n",
              "    }\n",
              "    20% {\n",
              "      border-color: transparent;\n",
              "      border-left-color: var(--fill-color);\n",
              "      border-top-color: var(--fill-color);\n",
              "    }\n",
              "    30% {\n",
              "      border-color: transparent;\n",
              "      border-left-color: var(--fill-color);\n",
              "      border-top-color: var(--fill-color);\n",
              "      border-right-color: var(--fill-color);\n",
              "    }\n",
              "    40% {\n",
              "      border-color: transparent;\n",
              "      border-right-color: var(--fill-color);\n",
              "      border-top-color: var(--fill-color);\n",
              "    }\n",
              "    60% {\n",
              "      border-color: transparent;\n",
              "      border-right-color: var(--fill-color);\n",
              "    }\n",
              "    80% {\n",
              "      border-color: transparent;\n",
              "      border-right-color: var(--fill-color);\n",
              "      border-bottom-color: var(--fill-color);\n",
              "    }\n",
              "    90% {\n",
              "      border-color: transparent;\n",
              "      border-bottom-color: var(--fill-color);\n",
              "    }\n",
              "  }\n",
              "</style>\n",
              "\n",
              "  <script>\n",
              "    async function quickchart(key) {\n",
              "      const quickchartButtonEl =\n",
              "        document.querySelector('#' + key + ' button');\n",
              "      quickchartButtonEl.disabled = true;  // To prevent multiple clicks.\n",
              "      quickchartButtonEl.classList.add('colab-df-spinner');\n",
              "      try {\n",
              "        const charts = await google.colab.kernel.invokeFunction(\n",
              "            'suggestCharts', [key], {});\n",
              "      } catch (error) {\n",
              "        console.error('Error during call to suggestCharts:', error);\n",
              "      }\n",
              "      quickchartButtonEl.classList.remove('colab-df-spinner');\n",
              "      quickchartButtonEl.classList.add('colab-df-quickchart-complete');\n",
              "    }\n",
              "    (() => {\n",
              "      let quickchartButtonEl =\n",
              "        document.querySelector('#df-81e0e46f-dcb4-4867-9b7f-fa8c889e1603 button');\n",
              "      quickchartButtonEl.style.display =\n",
              "        google.colab.kernel.accessAllowed ? 'block' : 'none';\n",
              "    })();\n",
              "  </script>\n",
              "</div>\n",
              "\n",
              "    </div>\n",
              "  </div>\n"
            ],
            "application/vnd.google.colaboratory.intrinsic+json": {
              "type": "dataframe",
              "summary": "{\n  \"name\": \"df\",\n  \"rows\": 8,\n  \"fields\": [\n    {\n      \"column\": \"OrderDate\",\n      \"properties\": {\n        \"dtype\": \"date\",\n        \"min\": \"1970-01-01 00:00:00.000056046\",\n        \"max\": \"2017-06-30 00:00:00\",\n        \"num_unique_values\": 7,\n        \"samples\": [\n          \"56046\",\n          \"2016-12-16 18:39:22.487956224\",\n          \"2017-04-12 00:00:00\"\n        ],\n        \"semantic_type\": \"\",\n        \"description\": \"\"\n      }\n    },\n    {\n      \"column\": \"Month\",\n      \"properties\": {\n        \"dtype\": \"number\",\n        \"std\": 19813.14129126376,\n        \"min\": 1.0,\n        \"max\": 56046.0,\n        \"num_unique_values\": 8,\n        \"samples\": [\n          6.29663133854334,\n          10.0,\n          56046.0\n        ],\n        \"semantic_type\": \"\",\n        \"description\": \"\"\n      }\n    },\n    {\n      \"column\": \"Year\",\n      \"properties\": {\n        \"dtype\": \"number\",\n        \"std\": 19217.108876182632,\n        \"min\": 0.586020750662197,\n        \"max\": 56046.0,\n        \"num_unique_values\": 6,\n        \"samples\": [\n          56046.0,\n          2016.479088605788,\n          0.586020750662197\n        ],\n        \"semantic_type\": \"\",\n        \"description\": \"\"\n      }\n    },\n    {\n      \"column\": \"ProductCost\",\n      \"properties\": {\n        \"dtype\": \"number\",\n        \"std\": 19677.44675502082,\n        \"min\": 0.8565,\n        \"max\": 56046.0,\n        \"num_unique_values\": 8,\n        \"samples\": [\n          255.75040277272242,\n          59.466,\n          56046.0\n        ],\n        \"semantic_type\": \"\",\n        \"description\": \"\"\n      }\n    },\n    {\n      \"column\": \"ProductPrice\",\n      \"properties\": {\n        \"dtype\": \"number\",\n        \"std\": 19596.69090177756,\n        \"min\": 2.29,\n        \"max\": 56046.0,\n        \"num_unique_values\": 8,\n        \"samples\": [\n          438.96934729151053,\n          159.0,\n          56046.0\n        ],\n        \"semantic_type\": \"\",\n        \"description\": \"\"\n      }\n    },\n    {\n      \"column\": \"Age\",\n      \"properties\": {\n        \"dtype\": \"number\",\n        \"std\": 19796.36338748705,\n        \"min\": 11.013477976034348,\n        \"max\": 56046.0,\n        \"num_unique_values\": 8,\n        \"samples\": [\n          55.3508903400778,\n          63.0,\n          56046.0\n        ],\n        \"semantic_type\": \"\",\n        \"description\": \"\"\n      }\n    },\n    {\n      \"column\": \"TotalChildren\",\n      \"properties\": {\n        \"dtype\": \"number\",\n        \"std\": 19814.573389157173,\n        \"min\": 0.0,\n        \"max\": 56046.0,\n        \"num_unique_values\": 7,\n        \"samples\": [\n          56046.0,\n          1.8439852977911002,\n          5.0\n        ],\n        \"semantic_type\": \"\",\n        \"description\": \"\"\n      }\n    },\n    {\n      \"column\": \"OrderQuantity\",\n      \"properties\": {\n        \"dtype\": \"number\",\n        \"std\": 19814.74249679322,\n        \"min\": 0.6123786751953327,\n        \"max\": 56046.0,\n        \"num_unique_values\": 6,\n        \"samples\": [\n          56046.0,\n          1.5018734610855369,\n          0.6123786751953327\n        ],\n        \"semantic_type\": \"\",\n        \"description\": \"\"\n      }\n    }\n  ]\n}"
            }
          },
          "metadata": {},
          "execution_count": 438
        }
      ]
    },
    {
      "cell_type": "markdown",
      "source": [
        "#### Visualizações"
      ],
      "metadata": {
        "id": "KQ40y8fh93jC"
      }
    },
    {
      "cell_type": "code",
      "source": [
        "# Importando dependências\n",
        "import pandas as pd\n",
        "import matplotlib.pyplot as plt\n",
        "import seaborn as sns\n",
        "import numpy as np"
      ],
      "metadata": {
        "id": "2bOLiByK9eZN"
      },
      "execution_count": 439,
      "outputs": []
    },
    {
      "cell_type": "code",
      "source": [
        "# Estatísticas descritivas gerais\n",
        "print(df['OrderQuantity'].describe())"
      ],
      "metadata": {
        "colab": {
          "base_uri": "https://localhost:8080/"
        },
        "id": "QiE4Lt4b9_ht",
        "outputId": "8590cac8-41f7-42f7-b1f6-b6b6e00cdc9a"
      },
      "execution_count": 440,
      "outputs": [
        {
          "output_type": "stream",
          "name": "stdout",
          "text": [
            "count    56046.000000\n",
            "mean         1.501873\n",
            "std          0.612379\n",
            "min          1.000000\n",
            "25%          1.000000\n",
            "50%          1.000000\n",
            "75%          2.000000\n",
            "max          3.000000\n",
            "Name: OrderQuantity, dtype: float64\n"
          ]
        }
      ]
    },
    {
      "cell_type": "code",
      "source": [
        "# Estatísticas descritivas segmentadas por região\n",
        "print(df.groupby('Region')['OrderQuantity'].describe())"
      ],
      "metadata": {
        "colab": {
          "base_uri": "https://localhost:8080/"
        },
        "id": "7KNTQWRw-Eqm",
        "outputId": "6dce1e85-7621-4906-9535-d7899f904914"
      },
      "execution_count": 441,
      "outputs": [
        {
          "output_type": "stream",
          "name": "stdout",
          "text": [
            "                  count      mean       std  min  25%  50%  75%  max\n",
            "Region                                                              \n",
            "Australia       12409.0  1.446611  0.598924  1.0  1.0  1.0  2.0  3.0\n",
            "Canada           6875.0  1.584582  0.629223  1.0  1.0  2.0  2.0  3.0\n",
            "Central            20.0  1.500000  0.606977  1.0  1.0  1.0  2.0  3.0\n",
            "France           5239.0  1.500668  0.607599  1.0  1.0  1.0  2.0  3.0\n",
            "Germany          5289.0  1.503120  0.616558  1.0  1.0  1.0  2.0  3.0\n",
            "Northeast          27.0  1.481481  0.579812  1.0  1.0  1.0  2.0  3.0\n",
            "Northwest        8267.0  1.513608  0.609945  1.0  1.0  1.0  2.0  3.0\n",
            "Southeast          34.0  1.441176  0.560907  1.0  1.0  1.0  2.0  3.0\n",
            "Southwest       11463.0  1.499695  0.613476  1.0  1.0  1.0  2.0  3.0\n",
            "United Kingdom   6423.0  1.509264  0.611221  1.0  1.0  1.0  2.0  3.0\n"
          ]
        }
      ]
    },
    {
      "cell_type": "code",
      "source": [
        "# Estatísticas descritivas segmentadas por categoria de produto\n",
        "print(df.groupby('CategoryName')['OrderQuantity'].describe())"
      ],
      "metadata": {
        "colab": {
          "base_uri": "https://localhost:8080/"
        },
        "id": "SS1Z915MCRF4",
        "outputId": "ce9a3477-f880-444d-d452-bbbf437f0394"
      },
      "execution_count": 442,
      "outputs": [
        {
          "output_type": "stream",
          "name": "stdout",
          "text": [
            "                count      mean       std  min  25%  50%  75%  max\n",
            "CategoryName                                                      \n",
            "Accessories   33607.0  1.720148  0.616072  1.0  1.0  2.0  2.0  3.0\n",
            "Bikes         13929.0  1.000000  0.000000  1.0  1.0  1.0  1.0  1.0\n",
            "Clothing       8510.0  1.461340  0.607353  1.0  1.0  1.0  2.0  3.0\n"
          ]
        }
      ]
    },
    {
      "cell_type": "code",
      "source": [
        "# Vendas por região\n",
        "sales_by_region = df.groupby('Region')['OrderQuantity'].sum().reset_index()\n",
        "sales_by_region.sort_values(by='OrderQuantity', ascending=False, inplace=True)\n",
        "sales_by_region"
      ],
      "metadata": {
        "colab": {
          "base_uri": "https://localhost:8080/",
          "height": 0
        },
        "id": "WVGUxTjAQMsk",
        "outputId": "dc029b25-752f-44e8-e14c-11e968b09776"
      },
      "execution_count": 443,
      "outputs": [
        {
          "output_type": "execute_result",
          "data": {
            "text/plain": [
              "           Region  OrderQuantity\n",
              "0       Australia          17951\n",
              "8       Southwest          17191\n",
              "6       Northwest          12513\n",
              "1          Canada          10894\n",
              "9  United Kingdom           9694\n",
              "4         Germany           7950\n",
              "3          France           7862\n",
              "7       Southeast             49\n",
              "5       Northeast             40\n",
              "2         Central             30"
            ],
            "text/html": [
              "\n",
              "  <div id=\"df-e7de0004-4fa2-436e-bda5-d9513581b41e\" class=\"colab-df-container\">\n",
              "    <div>\n",
              "<style scoped>\n",
              "    .dataframe tbody tr th:only-of-type {\n",
              "        vertical-align: middle;\n",
              "    }\n",
              "\n",
              "    .dataframe tbody tr th {\n",
              "        vertical-align: top;\n",
              "    }\n",
              "\n",
              "    .dataframe thead th {\n",
              "        text-align: right;\n",
              "    }\n",
              "</style>\n",
              "<table border=\"1\" class=\"dataframe\">\n",
              "  <thead>\n",
              "    <tr style=\"text-align: right;\">\n",
              "      <th></th>\n",
              "      <th>Region</th>\n",
              "      <th>OrderQuantity</th>\n",
              "    </tr>\n",
              "  </thead>\n",
              "  <tbody>\n",
              "    <tr>\n",
              "      <th>0</th>\n",
              "      <td>Australia</td>\n",
              "      <td>17951</td>\n",
              "    </tr>\n",
              "    <tr>\n",
              "      <th>8</th>\n",
              "      <td>Southwest</td>\n",
              "      <td>17191</td>\n",
              "    </tr>\n",
              "    <tr>\n",
              "      <th>6</th>\n",
              "      <td>Northwest</td>\n",
              "      <td>12513</td>\n",
              "    </tr>\n",
              "    <tr>\n",
              "      <th>1</th>\n",
              "      <td>Canada</td>\n",
              "      <td>10894</td>\n",
              "    </tr>\n",
              "    <tr>\n",
              "      <th>9</th>\n",
              "      <td>United Kingdom</td>\n",
              "      <td>9694</td>\n",
              "    </tr>\n",
              "    <tr>\n",
              "      <th>4</th>\n",
              "      <td>Germany</td>\n",
              "      <td>7950</td>\n",
              "    </tr>\n",
              "    <tr>\n",
              "      <th>3</th>\n",
              "      <td>France</td>\n",
              "      <td>7862</td>\n",
              "    </tr>\n",
              "    <tr>\n",
              "      <th>7</th>\n",
              "      <td>Southeast</td>\n",
              "      <td>49</td>\n",
              "    </tr>\n",
              "    <tr>\n",
              "      <th>5</th>\n",
              "      <td>Northeast</td>\n",
              "      <td>40</td>\n",
              "    </tr>\n",
              "    <tr>\n",
              "      <th>2</th>\n",
              "      <td>Central</td>\n",
              "      <td>30</td>\n",
              "    </tr>\n",
              "  </tbody>\n",
              "</table>\n",
              "</div>\n",
              "    <div class=\"colab-df-buttons\">\n",
              "\n",
              "  <div class=\"colab-df-container\">\n",
              "    <button class=\"colab-df-convert\" onclick=\"convertToInteractive('df-e7de0004-4fa2-436e-bda5-d9513581b41e')\"\n",
              "            title=\"Convert this dataframe to an interactive table.\"\n",
              "            style=\"display:none;\">\n",
              "\n",
              "  <svg xmlns=\"http://www.w3.org/2000/svg\" height=\"24px\" viewBox=\"0 -960 960 960\">\n",
              "    <path d=\"M120-120v-720h720v720H120Zm60-500h600v-160H180v160Zm220 220h160v-160H400v160Zm0 220h160v-160H400v160ZM180-400h160v-160H180v160Zm440 0h160v-160H620v160ZM180-180h160v-160H180v160Zm440 0h160v-160H620v160Z\"/>\n",
              "  </svg>\n",
              "    </button>\n",
              "\n",
              "  <style>\n",
              "    .colab-df-container {\n",
              "      display:flex;\n",
              "      gap: 12px;\n",
              "    }\n",
              "\n",
              "    .colab-df-convert {\n",
              "      background-color: #E8F0FE;\n",
              "      border: none;\n",
              "      border-radius: 50%;\n",
              "      cursor: pointer;\n",
              "      display: none;\n",
              "      fill: #1967D2;\n",
              "      height: 32px;\n",
              "      padding: 0 0 0 0;\n",
              "      width: 32px;\n",
              "    }\n",
              "\n",
              "    .colab-df-convert:hover {\n",
              "      background-color: #E2EBFA;\n",
              "      box-shadow: 0px 1px 2px rgba(60, 64, 67, 0.3), 0px 1px 3px 1px rgba(60, 64, 67, 0.15);\n",
              "      fill: #174EA6;\n",
              "    }\n",
              "\n",
              "    .colab-df-buttons div {\n",
              "      margin-bottom: 4px;\n",
              "    }\n",
              "\n",
              "    [theme=dark] .colab-df-convert {\n",
              "      background-color: #3B4455;\n",
              "      fill: #D2E3FC;\n",
              "    }\n",
              "\n",
              "    [theme=dark] .colab-df-convert:hover {\n",
              "      background-color: #434B5C;\n",
              "      box-shadow: 0px 1px 3px 1px rgba(0, 0, 0, 0.15);\n",
              "      filter: drop-shadow(0px 1px 2px rgba(0, 0, 0, 0.3));\n",
              "      fill: #FFFFFF;\n",
              "    }\n",
              "  </style>\n",
              "\n",
              "    <script>\n",
              "      const buttonEl =\n",
              "        document.querySelector('#df-e7de0004-4fa2-436e-bda5-d9513581b41e button.colab-df-convert');\n",
              "      buttonEl.style.display =\n",
              "        google.colab.kernel.accessAllowed ? 'block' : 'none';\n",
              "\n",
              "      async function convertToInteractive(key) {\n",
              "        const element = document.querySelector('#df-e7de0004-4fa2-436e-bda5-d9513581b41e');\n",
              "        const dataTable =\n",
              "          await google.colab.kernel.invokeFunction('convertToInteractive',\n",
              "                                                    [key], {});\n",
              "        if (!dataTable) return;\n",
              "\n",
              "        const docLinkHtml = 'Like what you see? Visit the ' +\n",
              "          '<a target=\"_blank\" href=https://colab.research.google.com/notebooks/data_table.ipynb>data table notebook</a>'\n",
              "          + ' to learn more about interactive tables.';\n",
              "        element.innerHTML = '';\n",
              "        dataTable['output_type'] = 'display_data';\n",
              "        await google.colab.output.renderOutput(dataTable, element);\n",
              "        const docLink = document.createElement('div');\n",
              "        docLink.innerHTML = docLinkHtml;\n",
              "        element.appendChild(docLink);\n",
              "      }\n",
              "    </script>\n",
              "  </div>\n",
              "\n",
              "\n",
              "<div id=\"df-6e93b49b-42aa-4507-b16b-cc13de86dfa3\">\n",
              "  <button class=\"colab-df-quickchart\" onclick=\"quickchart('df-6e93b49b-42aa-4507-b16b-cc13de86dfa3')\"\n",
              "            title=\"Suggest charts\"\n",
              "            style=\"display:none;\">\n",
              "\n",
              "<svg xmlns=\"http://www.w3.org/2000/svg\" height=\"24px\"viewBox=\"0 0 24 24\"\n",
              "     width=\"24px\">\n",
              "    <g>\n",
              "        <path d=\"M19 3H5c-1.1 0-2 .9-2 2v14c0 1.1.9 2 2 2h14c1.1 0 2-.9 2-2V5c0-1.1-.9-2-2-2zM9 17H7v-7h2v7zm4 0h-2V7h2v10zm4 0h-2v-4h2v4z\"/>\n",
              "    </g>\n",
              "</svg>\n",
              "  </button>\n",
              "\n",
              "<style>\n",
              "  .colab-df-quickchart {\n",
              "      --bg-color: #E8F0FE;\n",
              "      --fill-color: #1967D2;\n",
              "      --hover-bg-color: #E2EBFA;\n",
              "      --hover-fill-color: #174EA6;\n",
              "      --disabled-fill-color: #AAA;\n",
              "      --disabled-bg-color: #DDD;\n",
              "  }\n",
              "\n",
              "  [theme=dark] .colab-df-quickchart {\n",
              "      --bg-color: #3B4455;\n",
              "      --fill-color: #D2E3FC;\n",
              "      --hover-bg-color: #434B5C;\n",
              "      --hover-fill-color: #FFFFFF;\n",
              "      --disabled-bg-color: #3B4455;\n",
              "      --disabled-fill-color: #666;\n",
              "  }\n",
              "\n",
              "  .colab-df-quickchart {\n",
              "    background-color: var(--bg-color);\n",
              "    border: none;\n",
              "    border-radius: 50%;\n",
              "    cursor: pointer;\n",
              "    display: none;\n",
              "    fill: var(--fill-color);\n",
              "    height: 32px;\n",
              "    padding: 0;\n",
              "    width: 32px;\n",
              "  }\n",
              "\n",
              "  .colab-df-quickchart:hover {\n",
              "    background-color: var(--hover-bg-color);\n",
              "    box-shadow: 0 1px 2px rgba(60, 64, 67, 0.3), 0 1px 3px 1px rgba(60, 64, 67, 0.15);\n",
              "    fill: var(--button-hover-fill-color);\n",
              "  }\n",
              "\n",
              "  .colab-df-quickchart-complete:disabled,\n",
              "  .colab-df-quickchart-complete:disabled:hover {\n",
              "    background-color: var(--disabled-bg-color);\n",
              "    fill: var(--disabled-fill-color);\n",
              "    box-shadow: none;\n",
              "  }\n",
              "\n",
              "  .colab-df-spinner {\n",
              "    border: 2px solid var(--fill-color);\n",
              "    border-color: transparent;\n",
              "    border-bottom-color: var(--fill-color);\n",
              "    animation:\n",
              "      spin 1s steps(1) infinite;\n",
              "  }\n",
              "\n",
              "  @keyframes spin {\n",
              "    0% {\n",
              "      border-color: transparent;\n",
              "      border-bottom-color: var(--fill-color);\n",
              "      border-left-color: var(--fill-color);\n",
              "    }\n",
              "    20% {\n",
              "      border-color: transparent;\n",
              "      border-left-color: var(--fill-color);\n",
              "      border-top-color: var(--fill-color);\n",
              "    }\n",
              "    30% {\n",
              "      border-color: transparent;\n",
              "      border-left-color: var(--fill-color);\n",
              "      border-top-color: var(--fill-color);\n",
              "      border-right-color: var(--fill-color);\n",
              "    }\n",
              "    40% {\n",
              "      border-color: transparent;\n",
              "      border-right-color: var(--fill-color);\n",
              "      border-top-color: var(--fill-color);\n",
              "    }\n",
              "    60% {\n",
              "      border-color: transparent;\n",
              "      border-right-color: var(--fill-color);\n",
              "    }\n",
              "    80% {\n",
              "      border-color: transparent;\n",
              "      border-right-color: var(--fill-color);\n",
              "      border-bottom-color: var(--fill-color);\n",
              "    }\n",
              "    90% {\n",
              "      border-color: transparent;\n",
              "      border-bottom-color: var(--fill-color);\n",
              "    }\n",
              "  }\n",
              "</style>\n",
              "\n",
              "  <script>\n",
              "    async function quickchart(key) {\n",
              "      const quickchartButtonEl =\n",
              "        document.querySelector('#' + key + ' button');\n",
              "      quickchartButtonEl.disabled = true;  // To prevent multiple clicks.\n",
              "      quickchartButtonEl.classList.add('colab-df-spinner');\n",
              "      try {\n",
              "        const charts = await google.colab.kernel.invokeFunction(\n",
              "            'suggestCharts', [key], {});\n",
              "      } catch (error) {\n",
              "        console.error('Error during call to suggestCharts:', error);\n",
              "      }\n",
              "      quickchartButtonEl.classList.remove('colab-df-spinner');\n",
              "      quickchartButtonEl.classList.add('colab-df-quickchart-complete');\n",
              "    }\n",
              "    (() => {\n",
              "      let quickchartButtonEl =\n",
              "        document.querySelector('#df-6e93b49b-42aa-4507-b16b-cc13de86dfa3 button');\n",
              "      quickchartButtonEl.style.display =\n",
              "        google.colab.kernel.accessAllowed ? 'block' : 'none';\n",
              "    })();\n",
              "  </script>\n",
              "</div>\n",
              "\n",
              "  <div id=\"id_3cd007a7-3d32-4084-a3a6-aac33862b6f0\">\n",
              "    <style>\n",
              "      .colab-df-generate {\n",
              "        background-color: #E8F0FE;\n",
              "        border: none;\n",
              "        border-radius: 50%;\n",
              "        cursor: pointer;\n",
              "        display: none;\n",
              "        fill: #1967D2;\n",
              "        height: 32px;\n",
              "        padding: 0 0 0 0;\n",
              "        width: 32px;\n",
              "      }\n",
              "\n",
              "      .colab-df-generate:hover {\n",
              "        background-color: #E2EBFA;\n",
              "        box-shadow: 0px 1px 2px rgba(60, 64, 67, 0.3), 0px 1px 3px 1px rgba(60, 64, 67, 0.15);\n",
              "        fill: #174EA6;\n",
              "      }\n",
              "\n",
              "      [theme=dark] .colab-df-generate {\n",
              "        background-color: #3B4455;\n",
              "        fill: #D2E3FC;\n",
              "      }\n",
              "\n",
              "      [theme=dark] .colab-df-generate:hover {\n",
              "        background-color: #434B5C;\n",
              "        box-shadow: 0px 1px 3px 1px rgba(0, 0, 0, 0.15);\n",
              "        filter: drop-shadow(0px 1px 2px rgba(0, 0, 0, 0.3));\n",
              "        fill: #FFFFFF;\n",
              "      }\n",
              "    </style>\n",
              "    <button class=\"colab-df-generate\" onclick=\"generateWithVariable('sales_by_region')\"\n",
              "            title=\"Generate code using this dataframe.\"\n",
              "            style=\"display:none;\">\n",
              "\n",
              "  <svg xmlns=\"http://www.w3.org/2000/svg\" height=\"24px\"viewBox=\"0 0 24 24\"\n",
              "       width=\"24px\">\n",
              "    <path d=\"M7,19H8.4L18.45,9,17,7.55,7,17.6ZM5,21V16.75L18.45,3.32a2,2,0,0,1,2.83,0l1.4,1.43a1.91,1.91,0,0,1,.58,1.4,1.91,1.91,0,0,1-.58,1.4L9.25,21ZM18.45,9,17,7.55Zm-12,3A5.31,5.31,0,0,0,4.9,8.1,5.31,5.31,0,0,0,1,6.5,5.31,5.31,0,0,0,4.9,4.9,5.31,5.31,0,0,0,6.5,1,5.31,5.31,0,0,0,8.1,4.9,5.31,5.31,0,0,0,12,6.5,5.46,5.46,0,0,0,6.5,12Z\"/>\n",
              "  </svg>\n",
              "    </button>\n",
              "    <script>\n",
              "      (() => {\n",
              "      const buttonEl =\n",
              "        document.querySelector('#id_3cd007a7-3d32-4084-a3a6-aac33862b6f0 button.colab-df-generate');\n",
              "      buttonEl.style.display =\n",
              "        google.colab.kernel.accessAllowed ? 'block' : 'none';\n",
              "\n",
              "      buttonEl.onclick = () => {\n",
              "        google.colab.notebook.generateWithVariable('sales_by_region');\n",
              "      }\n",
              "      })();\n",
              "    </script>\n",
              "  </div>\n",
              "\n",
              "    </div>\n",
              "  </div>\n"
            ],
            "application/vnd.google.colaboratory.intrinsic+json": {
              "type": "dataframe",
              "variable_name": "sales_by_region",
              "summary": "{\n  \"name\": \"sales_by_region\",\n  \"rows\": 10,\n  \"fields\": [\n    {\n      \"column\": \"Region\",\n      \"properties\": {\n        \"dtype\": \"string\",\n        \"num_unique_values\": 10,\n        \"samples\": [\n          \"Northeast\",\n          \"Southwest\",\n          \"Germany\"\n        ],\n        \"semantic_type\": \"\",\n        \"description\": \"\"\n      }\n    },\n    {\n      \"column\": \"OrderQuantity\",\n      \"properties\": {\n        \"dtype\": \"number\",\n        \"std\": 6695,\n        \"min\": 30,\n        \"max\": 17951,\n        \"num_unique_values\": 10,\n        \"samples\": [\n          40,\n          17191,\n          7950\n        ],\n        \"semantic_type\": \"\",\n        \"description\": \"\"\n      }\n    }\n  ]\n}"
            }
          },
          "metadata": {},
          "execution_count": 443
        }
      ]
    },
    {
      "cell_type": "code",
      "source": [
        "# Vendas por categoria de produto\n",
        "sales_by_category = df.groupby('CategoryName')['OrderQuantity'].sum().reset_index()\n",
        "sales_by_category.sort_values(by='OrderQuantity', ascending=False, inplace=True)\n",
        "sales_by_category"
      ],
      "metadata": {
        "colab": {
          "base_uri": "https://localhost:8080/",
          "height": 0
        },
        "id": "7ZeULC9FQfwm",
        "outputId": "c2e5f32b-43b2-4218-eb25-9690b85e587b"
      },
      "execution_count": 444,
      "outputs": [
        {
          "output_type": "execute_result",
          "data": {
            "text/plain": [
              "  CategoryName  OrderQuantity\n",
              "0  Accessories          57809\n",
              "1        Bikes          13929\n",
              "2     Clothing          12436"
            ],
            "text/html": [
              "\n",
              "  <div id=\"df-de8f1789-2ec9-40ef-b6ac-bbb6519a189b\" class=\"colab-df-container\">\n",
              "    <div>\n",
              "<style scoped>\n",
              "    .dataframe tbody tr th:only-of-type {\n",
              "        vertical-align: middle;\n",
              "    }\n",
              "\n",
              "    .dataframe tbody tr th {\n",
              "        vertical-align: top;\n",
              "    }\n",
              "\n",
              "    .dataframe thead th {\n",
              "        text-align: right;\n",
              "    }\n",
              "</style>\n",
              "<table border=\"1\" class=\"dataframe\">\n",
              "  <thead>\n",
              "    <tr style=\"text-align: right;\">\n",
              "      <th></th>\n",
              "      <th>CategoryName</th>\n",
              "      <th>OrderQuantity</th>\n",
              "    </tr>\n",
              "  </thead>\n",
              "  <tbody>\n",
              "    <tr>\n",
              "      <th>0</th>\n",
              "      <td>Accessories</td>\n",
              "      <td>57809</td>\n",
              "    </tr>\n",
              "    <tr>\n",
              "      <th>1</th>\n",
              "      <td>Bikes</td>\n",
              "      <td>13929</td>\n",
              "    </tr>\n",
              "    <tr>\n",
              "      <th>2</th>\n",
              "      <td>Clothing</td>\n",
              "      <td>12436</td>\n",
              "    </tr>\n",
              "  </tbody>\n",
              "</table>\n",
              "</div>\n",
              "    <div class=\"colab-df-buttons\">\n",
              "\n",
              "  <div class=\"colab-df-container\">\n",
              "    <button class=\"colab-df-convert\" onclick=\"convertToInteractive('df-de8f1789-2ec9-40ef-b6ac-bbb6519a189b')\"\n",
              "            title=\"Convert this dataframe to an interactive table.\"\n",
              "            style=\"display:none;\">\n",
              "\n",
              "  <svg xmlns=\"http://www.w3.org/2000/svg\" height=\"24px\" viewBox=\"0 -960 960 960\">\n",
              "    <path d=\"M120-120v-720h720v720H120Zm60-500h600v-160H180v160Zm220 220h160v-160H400v160Zm0 220h160v-160H400v160ZM180-400h160v-160H180v160Zm440 0h160v-160H620v160ZM180-180h160v-160H180v160Zm440 0h160v-160H620v160Z\"/>\n",
              "  </svg>\n",
              "    </button>\n",
              "\n",
              "  <style>\n",
              "    .colab-df-container {\n",
              "      display:flex;\n",
              "      gap: 12px;\n",
              "    }\n",
              "\n",
              "    .colab-df-convert {\n",
              "      background-color: #E8F0FE;\n",
              "      border: none;\n",
              "      border-radius: 50%;\n",
              "      cursor: pointer;\n",
              "      display: none;\n",
              "      fill: #1967D2;\n",
              "      height: 32px;\n",
              "      padding: 0 0 0 0;\n",
              "      width: 32px;\n",
              "    }\n",
              "\n",
              "    .colab-df-convert:hover {\n",
              "      background-color: #E2EBFA;\n",
              "      box-shadow: 0px 1px 2px rgba(60, 64, 67, 0.3), 0px 1px 3px 1px rgba(60, 64, 67, 0.15);\n",
              "      fill: #174EA6;\n",
              "    }\n",
              "\n",
              "    .colab-df-buttons div {\n",
              "      margin-bottom: 4px;\n",
              "    }\n",
              "\n",
              "    [theme=dark] .colab-df-convert {\n",
              "      background-color: #3B4455;\n",
              "      fill: #D2E3FC;\n",
              "    }\n",
              "\n",
              "    [theme=dark] .colab-df-convert:hover {\n",
              "      background-color: #434B5C;\n",
              "      box-shadow: 0px 1px 3px 1px rgba(0, 0, 0, 0.15);\n",
              "      filter: drop-shadow(0px 1px 2px rgba(0, 0, 0, 0.3));\n",
              "      fill: #FFFFFF;\n",
              "    }\n",
              "  </style>\n",
              "\n",
              "    <script>\n",
              "      const buttonEl =\n",
              "        document.querySelector('#df-de8f1789-2ec9-40ef-b6ac-bbb6519a189b button.colab-df-convert');\n",
              "      buttonEl.style.display =\n",
              "        google.colab.kernel.accessAllowed ? 'block' : 'none';\n",
              "\n",
              "      async function convertToInteractive(key) {\n",
              "        const element = document.querySelector('#df-de8f1789-2ec9-40ef-b6ac-bbb6519a189b');\n",
              "        const dataTable =\n",
              "          await google.colab.kernel.invokeFunction('convertToInteractive',\n",
              "                                                    [key], {});\n",
              "        if (!dataTable) return;\n",
              "\n",
              "        const docLinkHtml = 'Like what you see? Visit the ' +\n",
              "          '<a target=\"_blank\" href=https://colab.research.google.com/notebooks/data_table.ipynb>data table notebook</a>'\n",
              "          + ' to learn more about interactive tables.';\n",
              "        element.innerHTML = '';\n",
              "        dataTable['output_type'] = 'display_data';\n",
              "        await google.colab.output.renderOutput(dataTable, element);\n",
              "        const docLink = document.createElement('div');\n",
              "        docLink.innerHTML = docLinkHtml;\n",
              "        element.appendChild(docLink);\n",
              "      }\n",
              "    </script>\n",
              "  </div>\n",
              "\n",
              "\n",
              "<div id=\"df-f58e6689-a5cc-4460-b1a4-6e60ce567ee7\">\n",
              "  <button class=\"colab-df-quickchart\" onclick=\"quickchart('df-f58e6689-a5cc-4460-b1a4-6e60ce567ee7')\"\n",
              "            title=\"Suggest charts\"\n",
              "            style=\"display:none;\">\n",
              "\n",
              "<svg xmlns=\"http://www.w3.org/2000/svg\" height=\"24px\"viewBox=\"0 0 24 24\"\n",
              "     width=\"24px\">\n",
              "    <g>\n",
              "        <path d=\"M19 3H5c-1.1 0-2 .9-2 2v14c0 1.1.9 2 2 2h14c1.1 0 2-.9 2-2V5c0-1.1-.9-2-2-2zM9 17H7v-7h2v7zm4 0h-2V7h2v10zm4 0h-2v-4h2v4z\"/>\n",
              "    </g>\n",
              "</svg>\n",
              "  </button>\n",
              "\n",
              "<style>\n",
              "  .colab-df-quickchart {\n",
              "      --bg-color: #E8F0FE;\n",
              "      --fill-color: #1967D2;\n",
              "      --hover-bg-color: #E2EBFA;\n",
              "      --hover-fill-color: #174EA6;\n",
              "      --disabled-fill-color: #AAA;\n",
              "      --disabled-bg-color: #DDD;\n",
              "  }\n",
              "\n",
              "  [theme=dark] .colab-df-quickchart {\n",
              "      --bg-color: #3B4455;\n",
              "      --fill-color: #D2E3FC;\n",
              "      --hover-bg-color: #434B5C;\n",
              "      --hover-fill-color: #FFFFFF;\n",
              "      --disabled-bg-color: #3B4455;\n",
              "      --disabled-fill-color: #666;\n",
              "  }\n",
              "\n",
              "  .colab-df-quickchart {\n",
              "    background-color: var(--bg-color);\n",
              "    border: none;\n",
              "    border-radius: 50%;\n",
              "    cursor: pointer;\n",
              "    display: none;\n",
              "    fill: var(--fill-color);\n",
              "    height: 32px;\n",
              "    padding: 0;\n",
              "    width: 32px;\n",
              "  }\n",
              "\n",
              "  .colab-df-quickchart:hover {\n",
              "    background-color: var(--hover-bg-color);\n",
              "    box-shadow: 0 1px 2px rgba(60, 64, 67, 0.3), 0 1px 3px 1px rgba(60, 64, 67, 0.15);\n",
              "    fill: var(--button-hover-fill-color);\n",
              "  }\n",
              "\n",
              "  .colab-df-quickchart-complete:disabled,\n",
              "  .colab-df-quickchart-complete:disabled:hover {\n",
              "    background-color: var(--disabled-bg-color);\n",
              "    fill: var(--disabled-fill-color);\n",
              "    box-shadow: none;\n",
              "  }\n",
              "\n",
              "  .colab-df-spinner {\n",
              "    border: 2px solid var(--fill-color);\n",
              "    border-color: transparent;\n",
              "    border-bottom-color: var(--fill-color);\n",
              "    animation:\n",
              "      spin 1s steps(1) infinite;\n",
              "  }\n",
              "\n",
              "  @keyframes spin {\n",
              "    0% {\n",
              "      border-color: transparent;\n",
              "      border-bottom-color: var(--fill-color);\n",
              "      border-left-color: var(--fill-color);\n",
              "    }\n",
              "    20% {\n",
              "      border-color: transparent;\n",
              "      border-left-color: var(--fill-color);\n",
              "      border-top-color: var(--fill-color);\n",
              "    }\n",
              "    30% {\n",
              "      border-color: transparent;\n",
              "      border-left-color: var(--fill-color);\n",
              "      border-top-color: var(--fill-color);\n",
              "      border-right-color: var(--fill-color);\n",
              "    }\n",
              "    40% {\n",
              "      border-color: transparent;\n",
              "      border-right-color: var(--fill-color);\n",
              "      border-top-color: var(--fill-color);\n",
              "    }\n",
              "    60% {\n",
              "      border-color: transparent;\n",
              "      border-right-color: var(--fill-color);\n",
              "    }\n",
              "    80% {\n",
              "      border-color: transparent;\n",
              "      border-right-color: var(--fill-color);\n",
              "      border-bottom-color: var(--fill-color);\n",
              "    }\n",
              "    90% {\n",
              "      border-color: transparent;\n",
              "      border-bottom-color: var(--fill-color);\n",
              "    }\n",
              "  }\n",
              "</style>\n",
              "\n",
              "  <script>\n",
              "    async function quickchart(key) {\n",
              "      const quickchartButtonEl =\n",
              "        document.querySelector('#' + key + ' button');\n",
              "      quickchartButtonEl.disabled = true;  // To prevent multiple clicks.\n",
              "      quickchartButtonEl.classList.add('colab-df-spinner');\n",
              "      try {\n",
              "        const charts = await google.colab.kernel.invokeFunction(\n",
              "            'suggestCharts', [key], {});\n",
              "      } catch (error) {\n",
              "        console.error('Error during call to suggestCharts:', error);\n",
              "      }\n",
              "      quickchartButtonEl.classList.remove('colab-df-spinner');\n",
              "      quickchartButtonEl.classList.add('colab-df-quickchart-complete');\n",
              "    }\n",
              "    (() => {\n",
              "      let quickchartButtonEl =\n",
              "        document.querySelector('#df-f58e6689-a5cc-4460-b1a4-6e60ce567ee7 button');\n",
              "      quickchartButtonEl.style.display =\n",
              "        google.colab.kernel.accessAllowed ? 'block' : 'none';\n",
              "    })();\n",
              "  </script>\n",
              "</div>\n",
              "\n",
              "  <div id=\"id_63f7d4dd-c130-4938-8a04-458441b2dc01\">\n",
              "    <style>\n",
              "      .colab-df-generate {\n",
              "        background-color: #E8F0FE;\n",
              "        border: none;\n",
              "        border-radius: 50%;\n",
              "        cursor: pointer;\n",
              "        display: none;\n",
              "        fill: #1967D2;\n",
              "        height: 32px;\n",
              "        padding: 0 0 0 0;\n",
              "        width: 32px;\n",
              "      }\n",
              "\n",
              "      .colab-df-generate:hover {\n",
              "        background-color: #E2EBFA;\n",
              "        box-shadow: 0px 1px 2px rgba(60, 64, 67, 0.3), 0px 1px 3px 1px rgba(60, 64, 67, 0.15);\n",
              "        fill: #174EA6;\n",
              "      }\n",
              "\n",
              "      [theme=dark] .colab-df-generate {\n",
              "        background-color: #3B4455;\n",
              "        fill: #D2E3FC;\n",
              "      }\n",
              "\n",
              "      [theme=dark] .colab-df-generate:hover {\n",
              "        background-color: #434B5C;\n",
              "        box-shadow: 0px 1px 3px 1px rgba(0, 0, 0, 0.15);\n",
              "        filter: drop-shadow(0px 1px 2px rgba(0, 0, 0, 0.3));\n",
              "        fill: #FFFFFF;\n",
              "      }\n",
              "    </style>\n",
              "    <button class=\"colab-df-generate\" onclick=\"generateWithVariable('sales_by_category')\"\n",
              "            title=\"Generate code using this dataframe.\"\n",
              "            style=\"display:none;\">\n",
              "\n",
              "  <svg xmlns=\"http://www.w3.org/2000/svg\" height=\"24px\"viewBox=\"0 0 24 24\"\n",
              "       width=\"24px\">\n",
              "    <path d=\"M7,19H8.4L18.45,9,17,7.55,7,17.6ZM5,21V16.75L18.45,3.32a2,2,0,0,1,2.83,0l1.4,1.43a1.91,1.91,0,0,1,.58,1.4,1.91,1.91,0,0,1-.58,1.4L9.25,21ZM18.45,9,17,7.55Zm-12,3A5.31,5.31,0,0,0,4.9,8.1,5.31,5.31,0,0,0,1,6.5,5.31,5.31,0,0,0,4.9,4.9,5.31,5.31,0,0,0,6.5,1,5.31,5.31,0,0,0,8.1,4.9,5.31,5.31,0,0,0,12,6.5,5.46,5.46,0,0,0,6.5,12Z\"/>\n",
              "  </svg>\n",
              "    </button>\n",
              "    <script>\n",
              "      (() => {\n",
              "      const buttonEl =\n",
              "        document.querySelector('#id_63f7d4dd-c130-4938-8a04-458441b2dc01 button.colab-df-generate');\n",
              "      buttonEl.style.display =\n",
              "        google.colab.kernel.accessAllowed ? 'block' : 'none';\n",
              "\n",
              "      buttonEl.onclick = () => {\n",
              "        google.colab.notebook.generateWithVariable('sales_by_category');\n",
              "      }\n",
              "      })();\n",
              "    </script>\n",
              "  </div>\n",
              "\n",
              "    </div>\n",
              "  </div>\n"
            ],
            "application/vnd.google.colaboratory.intrinsic+json": {
              "type": "dataframe",
              "variable_name": "sales_by_category",
              "summary": "{\n  \"name\": \"sales_by_category\",\n  \"rows\": 3,\n  \"fields\": [\n    {\n      \"column\": \"CategoryName\",\n      \"properties\": {\n        \"dtype\": \"string\",\n        \"num_unique_values\": 3,\n        \"samples\": [\n          \"Accessories\",\n          \"Bikes\",\n          \"Clothing\"\n        ],\n        \"semantic_type\": \"\",\n        \"description\": \"\"\n      }\n    },\n    {\n      \"column\": \"OrderQuantity\",\n      \"properties\": {\n        \"dtype\": \"number\",\n        \"std\": 25775,\n        \"min\": 12436,\n        \"max\": 57809,\n        \"num_unique_values\": 3,\n        \"samples\": [\n          57809,\n          13929,\n          12436\n        ],\n        \"semantic_type\": \"\",\n        \"description\": \"\"\n      }\n    }\n  ]\n}"
            }
          },
          "metadata": {},
          "execution_count": 444
        }
      ]
    },
    {
      "cell_type": "markdown",
      "source": [
        "#### Distribuição de Vendas ao Longo do Tempo (Histograma)\n",
        "\n",
        "É possível identificar que, a partir da metade do ano ed 2016, as vendas alavancaram muito"
      ],
      "metadata": {
        "id": "Ewn-uI8eEZQm"
      }
    },
    {
      "cell_type": "code",
      "source": [
        "# Configurações dos gráficos\n",
        "sns.set(style=\"whitegrid\")\n",
        "plt.rcParams[\"figure.figsize\"] = (12, 6)"
      ],
      "metadata": {
        "id": "WFwPkibs99MU"
      },
      "execution_count": 445,
      "outputs": []
    },
    {
      "cell_type": "code",
      "source": [
        "sns.histplot(df, x='OrderDate', kde=True, bins=30)\n",
        "plt.title('Distribuição de Vendas ao Longo do Tempo')\n",
        "plt.xlabel('Data do Pedido')\n",
        "plt.ylabel('Frequência de Vendas')\n",
        "plt.show()"
      ],
      "metadata": {
        "colab": {
          "base_uri": "https://localhost:8080/",
          "height": 0
        },
        "id": "aCFHq_ekDl87",
        "outputId": "9dfef095-ca7d-4861-d442-ba6af6833866"
      },
      "execution_count": 446,
      "outputs": [
        {
          "output_type": "display_data",
          "data": {
            "text/plain": [
              "<Figure size 1200x600 with 1 Axes>"
            ],
            "image/png": "[encoded data removed]"
          },
          "metadata": {}
        }
      ]
    },
    {
      "cell_type": "code",
      "source": [
        "# Gráfico de barras para Vendas Totais por Região\n",
        "sales_by_region = df.groupby('Region')['OrderQuantity'].sum().reset_index()\n",
        "sns.barplot(x='Region', y='OrderQuantity', data=sales_by_region, palette='viridis')\n",
        "plt.title('Total de Pedidos por Região')\n",
        "plt.xlabel('Região')\n",
        "plt.ylabel('Quantidade Total de Pedidos')\n",
        "plt.xticks(rotation=45)\n",
        "plt.show()"
      ],
      "metadata": {
        "colab": {
          "base_uri": "https://localhost:8080/",
          "height": 0
        },
        "id": "ZkNA8nrKTJBD",
        "outputId": "6c6d0cdf-9040-40d5-cbc4-2585ae5dc1a2"
      },
      "execution_count": 447,
      "outputs": [
        {
          "output_type": "stream",
          "name": "stderr",
          "text": [
            "<ipython-input-447-34cbc1b5fbf6>:3: FutureWarning: \n",
            "\n",
            "Passing `palette` without assigning `hue` is deprecated and will be removed in v0.14.0. Assign the `x` variable to `hue` and set `legend=False` for the same effect.\n",
            "\n",
            "  sns.barplot(x='Region', y='OrderQuantity', data=sales_by_region, palette='viridis')\n"
          ]
        },
        {
          "output_type": "display_data",
          "data": {
            "text/plain": [
              "<Figure size 1200x600 with 1 Axes>"
            ],
            "image/png": "[encoded data removed]"
          },
          "metadata": {}
        }
      ]
    },
    {
      "cell_type": "code",
      "source": [
        "# Vendas por Categoria de Produto\n",
        "sales_by_category = df.groupby('CategoryName')['OrderQuantity'].sum().reset_index()\n",
        "sns.barplot(x='CategoryName', y='OrderQuantity', data=sales_by_category, palette='coolwarm')\n",
        "plt.title('Total de Pedidos por Categoria de Produto')\n",
        "plt.xlabel('Categoria de Produto')\n",
        "plt.ylabel('Quantidade Total de Pedidos')\n",
        "plt.xticks(rotation=45)\n",
        "plt.show()"
      ],
      "metadata": {
        "colab": {
          "base_uri": "https://localhost:8080/",
          "height": 0
        },
        "id": "EOaEe18uU7_f",
        "outputId": "df8a05b4-88a3-4414-a6dc-f3477aa38495"
      },
      "execution_count": 448,
      "outputs": [
        {
          "output_type": "stream",
          "name": "stderr",
          "text": [
            "<ipython-input-448-0187c85a852a>:3: FutureWarning: \n",
            "\n",
            "Passing `palette` without assigning `hue` is deprecated and will be removed in v0.14.0. Assign the `x` variable to `hue` and set `legend=False` for the same effect.\n",
            "\n",
            "  sns.barplot(x='CategoryName', y='OrderQuantity', data=sales_by_category, palette='coolwarm')\n"
          ]
        },
        {
          "output_type": "display_data",
          "data": {
            "text/plain": [
              "<Figure size 1200x600 with 1 Axes>"
            ],
            "image/png": "[encoded data removed]"
          },
          "metadata": {}
        }
      ]
    },
    {
      "cell_type": "code",
      "source": [
        "# Análise da Distribuição de Idade\n",
        "sns.histplot(df['Age'], bins=30, kde=True, color='skyblue')\n",
        "plt.title('Distribuição da Idade dos Clientes')\n",
        "plt.xlabel('Idade')\n",
        "plt.ylabel('Frequência')\n",
        "plt.show()"
      ],
      "metadata": {
        "colab": {
          "base_uri": "https://localhost:8080/",
          "height": 0
        },
        "id": "GtriIrvKVEm0",
        "outputId": "4956da24-8898-4d8e-e06f-2e97af496cfc"
      },
      "execution_count": 449,
      "outputs": [
        {
          "output_type": "display_data",
          "data": {
            "text/plain": [
              "<Figure size 1200x600 with 1 Axes>"
            ],
            "image/png": "[encoded data removed]"
          },
          "metadata": {}
        }
      ]
    },
    {
      "cell_type": "code",
      "source": [
        "# Análise de vendas por Tamanho do Produto\n",
        "sales_by_size = df.groupby('ProductSize')['OrderQuantity'].sum().reset_index()\n",
        "sns.barplot(x='ProductSize', y='OrderQuantity', data=sales_by_size, palette='Dark2')\n",
        "plt.title('Total de Pedidos por Tamanho do Produto')\n",
        "plt.xlabel('Tamanho do Produto')\n",
        "plt.ylabel('Quantidade Total de Pedidos')\n",
        "plt.xticks(rotation=45)\n",
        "plt.show()\n"
      ],
      "metadata": {
        "colab": {
          "base_uri": "https://localhost:8080/",
          "height": 0
        },
        "id": "77YPYiR7VX4Z",
        "outputId": "cd864787-1e4e-4758-d733-ba2d6e1c0c64"
      },
      "execution_count": 450,
      "outputs": [
        {
          "output_type": "stream",
          "name": "stderr",
          "text": [
            "<ipython-input-450-163806b48208>:3: FutureWarning: \n",
            "\n",
            "Passing `palette` without assigning `hue` is deprecated and will be removed in v0.14.0. Assign the `x` variable to `hue` and set `legend=False` for the same effect.\n",
            "\n",
            "  sns.barplot(x='ProductSize', y='OrderQuantity', data=sales_by_size, palette='Dark2')\n"
          ]
        },
        {
          "output_type": "display_data",
          "data": {
            "text/plain": [
              "<Figure size 1200x600 with 1 Axes>"
            ],
            "image/png": "[encoded data removed]"
          },
          "metadata": {}
        }
      ]
    },
    {
      "cell_type": "code",
      "source": [
        "# Análise de vendas por Cor do Produto\n",
        "plt.figure(figsize=(12, 6))\n",
        "sales_by_color = df.groupby('ProductColor')['OrderQuantity'].sum().reset_index()\n",
        "sns.barplot(x='ProductColor', y='OrderQuantity', data=sales_by_color, palette='Paired')\n",
        "plt.title('Total de Pedidos por Cor do Produto')\n",
        "plt.xlabel('Cor do Produto')\n",
        "plt.ylabel('Quantidade Total de Pedidos')\n",
        "plt.xticks(rotation=45)\n",
        "plt.show()"
      ],
      "metadata": {
        "colab": {
          "base_uri": "https://localhost:8080/",
          "height": 0
        },
        "id": "qzumRcIPVpQF",
        "outputId": "d6aa2faa-1380-42c4-8253-353de38e18a5"
      },
      "execution_count": 451,
      "outputs": [
        {
          "output_type": "stream",
          "name": "stderr",
          "text": [
            "<ipython-input-451-23f2b5e28904>:4: FutureWarning: \n",
            "\n",
            "Passing `palette` without assigning `hue` is deprecated and will be removed in v0.14.0. Assign the `x` variable to `hue` and set `legend=False` for the same effect.\n",
            "\n",
            "  sns.barplot(x='ProductColor', y='OrderQuantity', data=sales_by_color, palette='Paired')\n"
          ]
        },
        {
          "output_type": "display_data",
          "data": {
            "text/plain": [
              "<Figure size 1200x600 with 1 Axes>"
            ],
            "image/png": "[encoded data removed]"
          },
          "metadata": {}
        }
      ]
    },
    {
      "cell_type": "markdown",
      "source": [
        "#### Preço vs Quantidade de Vendas (Scatterplot)"
      ],
      "metadata": {
        "id": "npDx0nJWE7jv"
      }
    },
    {
      "cell_type": "code",
      "source": [
        "sns.scatterplot(x='ProductPrice', y='OrderQuantity', hue='CategoryName', data=df)\n",
        "plt.title('Preço vs Quantidade de Vendas por Categoria de Produto')\n",
        "plt.xlabel('Preço do Produto')\n",
        "plt.ylabel('Quantidade de Pedidos')\n",
        "plt.show()"
      ],
      "metadata": {
        "colab": {
          "base_uri": "https://localhost:8080/",
          "height": 0
        },
        "id": "sjBUe4aHCSqi",
        "outputId": "03247a83-f49b-4201-9773-7944b15f4bef"
      },
      "execution_count": 452,
      "outputs": [
        {
          "output_type": "display_data",
          "data": {
            "text/plain": [
              "<Figure size 1200x600 with 1 Axes>"
            ],
            "image/png": "[encoded data removed]"
          },
          "metadata": {}
        }
      ]
    },
    {
      "cell_type": "markdown",
      "source": [
        "#### Identificação de outliers"
      ],
      "metadata": {
        "id": "TXNBn7X8RUfa"
      }
    },
    {
      "cell_type": "code",
      "source": [
        "# Calculando os quartis e o IQR\n",
        "Q1 = df['OrderQuantity'].quantile(0.25)\n",
        "Q3 = df['OrderQuantity'].quantile(0.75)\n",
        "IQR = Q3 - Q1\n",
        "print(f\"Q1: {Q1}, Q3: {Q3}, IQR: {IQR}\")"
      ],
      "metadata": {
        "colab": {
          "base_uri": "https://localhost:8080/"
        },
        "id": "h-WeJ_p7Ii_l",
        "outputId": "3237aeed-1004-44d0-f679-fd8426152460"
      },
      "execution_count": 453,
      "outputs": [
        {
          "output_type": "stream",
          "name": "stdout",
          "text": [
            "Q1: 1.0, Q3: 2.0, IQR: 1.0\n"
          ]
        }
      ]
    },
    {
      "cell_type": "code",
      "source": [
        "# Definindo limites para outliers\n",
        "lower_bound = Q1 - 1.5 * IQR\n",
        "upper_bound = Q3 + 1.5 * IQR"
      ],
      "metadata": {
        "id": "OhoL_PYVJR5_"
      },
      "execution_count": 454,
      "outputs": []
    },
    {
      "cell_type": "code",
      "source": [
        "# Visualizando os outliers com boxplot\n",
        "sns.boxplot(x='OrderQuantity', data=df)\n",
        "plt.title('Boxplot da Quantidade de Pedidos')\n",
        "plt.xlabel('Quantidade de Pedidos')\n",
        "plt.show()"
      ],
      "metadata": {
        "colab": {
          "base_uri": "https://localhost:8080/",
          "height": 0
        },
        "id": "kArwyjJFRg8g",
        "outputId": "724ef75f-a00d-47cb-e1b3-3e8b16635944"
      },
      "execution_count": 455,
      "outputs": [
        {
          "output_type": "display_data",
          "data": {
            "text/plain": [
              "<Figure size 1200x600 with 1 Axes>"
            ],
            "image/png": "[encoded data removed]"
          },
          "metadata": {}
        }
      ]
    },
    {
      "cell_type": "code",
      "source": [
        "# Identificando outliers\n",
        "outliers = df[(df['OrderQuantity'] < lower_bound) | (df['OrderQuantity'] > upper_bound)]\n",
        "print(\"Número de outliers identificados:\", len(outliers))"
      ],
      "metadata": {
        "colab": {
          "base_uri": "https://localhost:8080/"
        },
        "id": "lbGybx_2Ri5Y",
        "outputId": "044ac07d-ac49-41b9-a723-2a46034817f3"
      },
      "execution_count": 456,
      "outputs": [
        {
          "output_type": "stream",
          "name": "stdout",
          "text": [
            "Número de outliers identificados: 0\n"
          ]
        }
      ]
    },
    {
      "cell_type": "code",
      "source": [
        "from scipy import stats"
      ],
      "metadata": {
        "id": "HpSGimVHRoOP"
      },
      "execution_count": 457,
      "outputs": []
    },
    {
      "cell_type": "code",
      "source": [
        "# Calculando o Z-score\n",
        "z_scores = np.abs(stats.zscore(df['OrderQuantity']))\n",
        "outliers_z = df[z_scores > 3]\n",
        "print(\"Número de outliers identificados pelo Z-score:\", len(outliers_z))"
      ],
      "metadata": {
        "colab": {
          "base_uri": "https://localhost:8080/"
        },
        "id": "0U9H-C9OSw3o",
        "outputId": "4aa67010-9cdb-4b86-843f-88956f50a9df"
      },
      "execution_count": 458,
      "outputs": [
        {
          "output_type": "stream",
          "name": "stdout",
          "text": [
            "Número de outliers identificados pelo Z-score: 0\n"
          ]
        }
      ]
    },
    {
      "cell_type": "markdown",
      "source": [
        "## Pré-processamento de Dados"
      ],
      "metadata": {
        "id": "_gU6hVoRV0eM"
      }
    },
    {
      "cell_type": "markdown",
      "source": [
        "Tratando os campos de valor ProductCost e ProductPrice"
      ],
      "metadata": {
        "id": "VjAhWaextu6b"
      }
    },
    {
      "cell_type": "code",
      "source": [
        "# Remover caracteres não numéricos da coluna 'AnnualIncome' e converter para float\n",
        "df['AnnualIncome'] = df['AnnualIncome'].replace('[\\$,]', '', regex=True).astype(float)"
      ],
      "metadata": {
        "id": "iXN5pOyItz6h"
      },
      "execution_count": 459,
      "outputs": []
    },
    {
      "cell_type": "markdown",
      "source": [
        "Como já tinha sido identificado antes, as features com dados faltantes são, ProductColor, Prefix e Gender"
      ],
      "metadata": {
        "id": "mfy8nw9Stt1x"
      }
    },
    {
      "cell_type": "code",
      "source": [
        "df['Gender'].unique()"
      ],
      "metadata": {
        "colab": {
          "base_uri": "https://localhost:8080/"
        },
        "id": "kpgoTJHiYaWW",
        "outputId": "17b42954-5e1d-4d6b-9b5c-4f061a0260cc"
      },
      "execution_count": 460,
      "outputs": [
        {
          "output_type": "execute_result",
          "data": {
            "text/plain": [
              "array(['M', 'F', nan], dtype=object)"
            ]
          },
          "metadata": {},
          "execution_count": 460
        }
      ]
    },
    {
      "cell_type": "code",
      "source": [
        "# Criando um novo dataset para tratar os Gêneros faltantes\n",
        "filtro = df['Gender'].isna()\n",
        "\n",
        "na_genders = df[filtro]\n",
        "with_genders = df[~filtro]\n",
        "\n",
        "with_genders = with_genders[['FirstName', 'LastName', 'Gender']]\n",
        "na_genders = na_genders[['FirstName', 'LastName', 'Gender']]"
      ],
      "metadata": {
        "id": "ZrZEbRTPV1eD"
      },
      "execution_count": 461,
      "outputs": []
    },
    {
      "cell_type": "markdown",
      "source": [
        "#### Tratando feature Gender\n",
        "\n",
        "Foram pensadas duas formas que podem ser feitas para resolver esses dados faltantes\n",
        "1. Identificar todos os nomes com dados faltanes e criar um dicionário para aplicar a troca\n",
        "2. Identificar os nomes que já existem com gêneros atrelados e associar o mesmo valor"
      ],
      "metadata": {
        "id": "JSbGiSm4YwC6"
      }
    },
    {
      "cell_type": "code",
      "source": [
        "na_genders['FirstName'].unique()"
      ],
      "metadata": {
        "id": "kqNSUIcbV5m9",
        "colab": {
          "base_uri": "https://localhost:8080/"
        },
        "outputId": "7b6c1d18-09ff-403a-f8d9-b01532bfcb92"
      },
      "execution_count": 462,
      "outputs": [
        {
          "output_type": "execute_result",
          "data": {
            "text/plain": [
              "array(['RICKY', 'HAROLD', 'ANGELA', 'DENNIS', 'VANESSA', 'JENNY', 'JÉSUS',\n",
              "       'JASMINE', 'ORLANDO', 'TODD', 'NANCY', 'ALISHA', 'PEDRO',\n",
              "       'CYNTHIA', 'MICAH', 'IAN', 'ARTHUR', 'EDDIE', 'NICOLAS', 'KRISTI',\n",
              "       'ADRIANA', 'ALEJANDRO', 'TERESA', 'KATHERINE', 'NINA', 'ANNA',\n",
              "       'KATIE', 'JAMIE', 'JACQUELINE', 'ALEXANDER', 'NATHANIEL', 'RUTH',\n",
              "       'KRISTINE', 'LUKE', 'ROBYN', 'DARREN', 'WYATT', 'ALEXA', 'TONYA',\n",
              "       'JONATHAN', 'LOUIS', 'CRAIG', 'NAOMI', 'THOMAS', 'CESAR', 'MIGUEL',\n",
              "       'JACK', 'SHEILA', 'EMILY', 'LEVI', 'MARCUS', 'CANDICE', 'DALTON',\n",
              "       'MARIE', 'SHAWN', 'TAMMY', 'CATHERINE', 'KEITH', 'TERRY', 'DIANA',\n",
              "       'MINDY', 'BRETT', 'LATOYA', 'CEDRIC', 'JAN', 'GERALD', 'MADISON',\n",
              "       'LESLIE', 'FERNANDO', 'BARBARA', 'EDWARD', 'MISTY', 'RACHEL',\n",
              "       'GAIL', 'LUIS', 'SHANNON', 'SAVANNAH', 'EMMA', 'REGINALD',\n",
              "       'BRIANNA', 'ALEXANDRA', 'DAISY', 'WENDY', 'CHRISTY', 'AMANDA',\n",
              "       'RICARDO', 'JEROME', 'RENEE', 'JESSIE', 'ALEXANDRIA', 'JASON',\n",
              "       'JULIA', 'MARTHA', 'BARRY', 'NOAH', 'SAMANTHA', 'CASEY', 'ZACHARY',\n",
              "       'JOSE', 'SHEENA', 'ABBY', 'GLORIA', 'CHRISTOPHER', 'NEIL',\n",
              "       'DOUGLAS', 'TAMARA', 'ANDREA', 'EBONY', 'MAKAYLA', 'KENDRA',\n",
              "       'BRANDON', 'CHRISTIAN', 'DEVIN', 'RANDALL', 'BENJAMIN'],\n",
              "      dtype=object)"
            ]
          },
          "metadata": {},
          "execution_count": 462
        }
      ]
    },
    {
      "cell_type": "code",
      "source": [
        "with_genders['FirstName'].unique()"
      ],
      "metadata": {
        "colab": {
          "base_uri": "https://localhost:8080/"
        },
        "id": "dcahGun-ZvVO",
        "outputId": "dd985a07-ebbd-409f-9226-5d95bce4569a"
      },
      "execution_count": 463,
      "outputs": [
        {
          "output_type": "execute_result",
          "data": {
            "text/plain": [
              "array(['JOHN', 'KYLE', 'ROSS', 'SETH', 'ALEJANDRO', 'GRACE', 'JACQUELYN',\n",
              "       'REGINALD', 'ADRIENNE', 'ALEXANDRA', 'COLIN', 'GLENN', 'JENNA',\n",
              "       'JODI', 'JOSEPH', 'OSCAR', 'AMANDA', 'CAROLINE', 'DAWN', 'GEORGE',\n",
              "       'RICHARD', 'ADAM', 'ERIC', 'MIGUEL', 'ASHLEY', 'COURTNEY', 'LUIS',\n",
              "       'TAYLOR', 'BRENDAN', 'BRIANNA', 'LATASHA', 'RICARDO', 'ANNA',\n",
              "       'AUSTIN', 'IAN', 'ISABELLA', 'JONATHON', 'SUZANNE', 'VICTORIA',\n",
              "       'DENISE', 'MORGAN', 'KATRINA', 'MEREDITH', 'COLLEEN', 'DALTON',\n",
              "       'EDUARDO', 'ERIKA', 'JUSTIN', 'MASON', 'RILEY', 'EVAN', 'JANET',\n",
              "       'KATHERINE', 'TARA', 'VERONICA', 'WAYNE', 'BRYANT', 'JAIME',\n",
              "       'MARIA', 'EMMA', 'GARY', 'JERRY', 'JULIA', 'LATOYA', 'LOUIS',\n",
              "       'MATHEW', 'REGINA', 'SYDNEY', 'ANDY', 'CHERYL', 'DARREN',\n",
              "       'FRANKLIN', 'STANLEY', 'DARRYL', 'FRANCISCO', 'LAURA', 'STEVEN',\n",
              "       'TAMARA', 'WYATT', 'DEANNA', 'ERIN', 'FAITH', 'JON', 'XAVIER',\n",
              "       'CASEY', 'ERNEST', 'MARIO', 'PETER', 'STEVE', 'THERESA', 'EDWIN',\n",
              "       'GABRIELLE', 'MEGHAN', 'MISTY', 'ROSA', 'SHELBY', 'CHRISTY',\n",
              "       'DONALD', 'KELLY', 'KELSEY', 'DERRICK', 'ELIZABETH', 'GABRIELLA',\n",
              "       'MELVIN', 'PRISCILLA', 'TODD', 'VADIM', 'JAMES', 'KARA',\n",
              "       'SAMANTHA', 'TAMMY', 'TRACY', 'AMBER', 'JARED', 'ROBERT',\n",
              "       'BRANDON', 'CHLOE', 'HAILEY', 'KATELYN', 'LACEY', 'REBECCA',\n",
              "       'JACK', 'TROY', 'ZACHARY', 'KENNETH', 'KRYSTAL', 'MEGAN', 'BRETT',\n",
              "       'MARY', 'TASHA', 'ANGEL', 'LINDA', 'TABITHA', 'CARMEN', 'RUBEN',\n",
              "       'ALEX', 'BRENT', 'JENNIFER', 'KAYLA', 'MAKAYLA', 'MARCUS', 'PAULA',\n",
              "       'ROY', 'SUSAN', 'MARISSA', 'MATTHEW', 'MELINDA', 'SEAN', 'SHARON',\n",
              "       'VICTOR', 'BONNIE', 'CANDICE', 'CLARENCE', 'LEAH', 'ARMANDO',\n",
              "       'DAISY', 'DOUGLAS', 'MAURICE', 'ALFREDO', 'CAITLIN', 'JONATHAN',\n",
              "       'KRISTOPHER', 'MARSHALL', 'PATRICIA', 'CLAUDIA', 'FRANK', 'JACOB',\n",
              "       'KATHLEEN', 'SHAWN', 'TRINITY', 'WILLIE', 'ALLEN', 'EDGAR',\n",
              "       'JARRED', 'JORDAN', 'CHASE', 'DOMINIQUE', 'KEVIN', 'SAVANNAH',\n",
              "       'ISABEL', 'RANDALL', 'RAYMOND', 'TIFFANY', 'TREVOR', 'JACLYN',\n",
              "       'LYDIA', 'MICHELE', 'LISA', 'HUNTER', 'JULIO', 'LUCAS', 'MARVIN',\n",
              "       'NATALIE', 'THOMAS', 'COLE', 'JESSICA', 'KELLI', 'KRISTI',\n",
              "       'MACKENZIE', 'ORLANDO', 'ALEXA', 'BETH', 'IVAN', 'BRADLEY', 'JIM',\n",
              "       'JOSHUA', 'NICHOLAS', 'PAIGE', 'PAMELA', 'JASMINE', 'STACY',\n",
              "       'GLORIA', 'TERRANCE', 'CARSON', 'CEDRIC', 'KRISTA', 'DONNA',\n",
              "       'ALVIN', 'BRAD', 'CHRISTIAN', 'EBONY', 'ELIJAH', 'ALEXIS',\n",
              "       'CARLOS', 'HANNAH', 'MEAGAN', 'CAMERON', 'CARL', 'DUSTIN', 'ETHAN',\n",
              "       'BRITTNEY', 'ISAIAH', 'LAWRENCE', 'ROBIN', 'SHEENA', 'ADRIANA',\n",
              "       'BRANDY', 'DOMINIC', 'JACQUELINE', 'JUAN', 'MARTIN', 'SHAWNA',\n",
              "       'KARI', 'BAILEY', 'CARLA', 'HEIDI', 'RACHEL', 'STEFANIE',\n",
              "       'TIMOTHY', 'LAUREN', 'ROBERTO', 'SHAUN', 'BRIDGET', 'CASSIE',\n",
              "       'RONALD', 'JENNY', 'JOEL', 'NINA', 'ROGER', 'SEBASTIAN', 'DANNY',\n",
              "       'HOLLY', 'JESSIE', 'NELSON', 'SHANNON', 'DESTINY', 'DEVON',\n",
              "       'HALEY', 'MAX', 'CRYSTAL', 'DEVIN', 'ABBY', 'CLAYTON', 'COREY',\n",
              "       'GABRIEL', 'ISAAC', 'BRENDA', 'LOGAN', 'DAISUKE', 'ARIANA',\n",
              "       'DEREK', 'SPENCER', 'BYRON', 'WARREN', 'JADE', 'MARIAH',\n",
              "       'NATHANIEL', 'JOSE', 'KARLA', 'ARTHUR', 'AIDAN', 'AMY', 'JOAN',\n",
              "       'MARC', 'TONI', 'ALBERTO', 'RONNIE', 'ANGELA', 'RICKY', 'MYA',\n",
              "       'RAFAEL', 'TERESA', 'ANN', 'NICOLE', 'DAVID', 'GEOFFREY',\n",
              "       'JACKSON', 'KAYLEE', 'TINA', 'TONY', 'CANDACE', 'LANCE', 'NICHOLE',\n",
              "       'CRISTINA', 'DAKOTA', 'JAY', 'KATE', 'MADISON', 'PHIL', 'PHILLIP',\n",
              "       'RYAN', 'KRISTEN', 'CHARLES', 'HECTOR', 'TERRY', 'BARRY', 'TRISHA',\n",
              "       'NOAH', 'DANIELLE', 'NIÑIA', 'OLIVIA', 'STEPHANIE', 'JOSÉ',\n",
              "       'SAMUEL', 'SARAH', 'MINDY', 'JAMIE', 'JOE', 'RODNEY', 'GINA',\n",
              "       'PHILIP', 'ANDREW', 'EDWARD', 'SIERRA', 'BENJAMIN', 'RAUL', 'CHAD',\n",
              "       'DOROTHY', 'GRANT', 'GREG', 'ISABELLE', 'KRISTINA', 'AARON',\n",
              "       'ANTHONY', 'LINDSEY', 'DANA', 'MARK', 'ASHLEE', 'CHRISTOPHER',\n",
              "       'CINDY', 'ALLISON', 'JOHNNY', 'LARRY', 'CONNOR', 'MITCHELL',\n",
              "       'VALERIE', 'KEITH', 'CESAR', 'LEVI', 'MIRANDA', 'VIRGINIA',\n",
              "       'ABIGAIL', 'AIMEE', 'SCOTT', 'FERNANDO', 'ANDREA', 'RACHAEL',\n",
              "       'RANDY', 'TANYA', 'ANTONIO', 'DANIEL', 'IOANNIS', 'GAVIN', 'JILL',\n",
              "       'KRISTINE', 'AUDREY', 'HEATHER', 'JASON', 'CARLY', 'PEDRO',\n",
              "       'TYLER', 'ALYSSA', 'WENDY', 'BROOKE', 'DEBORAH', 'JEFFERY',\n",
              "       'JERMAINE', 'KAITLYN', 'KURT', 'DENNIS', 'ADRIAN', 'GARRETT',\n",
              "       'MELISSA', 'ALEXANDRIA', 'EVELYN', 'DALE', 'FREDERICK',\n",
              "       'JOHNATHAN', 'LORI', 'KAREN', 'NICOLAS', 'ANA', 'CARA', 'KATIE',\n",
              "       'ANDRE', 'JARROD', 'KELVIN', 'BETHANY', 'GERALD', 'JOCELYN',\n",
              "       'APRIL', 'JAVIER', 'KATHRYN', 'RUSSELL', 'JANELLE', 'LUKE',\n",
              "       'CURTIS', 'GREGORY', 'TRISTAN', 'ARIANNA', 'JOANNA', 'BIANCA',\n",
              "       'SUMMER', 'ALICIA', 'CHELSEA', 'LINDSAY', 'ALEXIA', 'BARBARA',\n",
              "       'CORY', 'TONYA', 'SABRINA', 'GILBERT', 'CARRIE', 'SARA',\n",
              "       'THEODORE', 'YOLANDA', 'BRUCE', 'AUTUMN', 'PATRICK', 'PAUL',\n",
              "       'PRESTON', 'SAM', 'HANY', 'MADELINE', 'OMAR', 'STACEY', 'RUTH',\n",
              "       'JEREMY', 'SOPHIA', 'CASSANDRA', 'CLIFFORD', 'MOLLY', 'MARGARET',\n",
              "       'ALISHA', 'DESIREE', 'CHRISTINE', 'JORDYN', 'MAYRA', 'VANESSA',\n",
              "       'CODY', 'ERICK', 'KRISTY', 'MONICA', 'JEROME', 'BRITTA', 'JULIAN',\n",
              "       'MONIQUE', 'SHEILA', 'CASSIDY', 'ALISON', 'CALEB', 'CALVIN',\n",
              "       'MANUEL', 'MICHELLE', 'ANDRES', 'CAROLYN', 'ROBYN', 'EUGENE',\n",
              "       'WALTER', 'WESLEY', 'ERICA', 'NATASHA', 'CRAIG', 'JÉSUS', 'BLAKE',\n",
              "       'CLINTON', 'YVONNE', 'BRYAN', 'KIMBERLY', 'RAMON', 'ERIK', 'DEB',\n",
              "       'GERRIT', 'JORGE', 'JIMMY', 'NANCY', 'ALBERT', 'KELLIE', 'BOB',\n",
              "       'FLORIAN', 'IRVING', 'JESSE', 'ALAN', 'PETR', 'FRANCIS', 'JAKE',\n",
              "       'TERRENCE', 'DWAYNE', 'MELODY', 'RENEE', 'Y.', 'NATHAN', 'EDDIE',\n",
              "       'BRIANA', 'JOY', 'JEREMIAH', 'MARTY', 'SANDRA', 'JADA', 'TOMMY',\n",
              "       'TYRONE', 'MICAH', 'BRANDI', 'PEARLIE', 'MARIE', 'PEGGY', 'KENDRA',\n",
              "       'JULIE', 'REBEKAH', 'ALEXANDER', 'BILLY', 'MICHAEL', 'GAIL',\n",
              "       'MALLORY', 'MOHAMED', 'MAURIZIO', 'CYNTHIA', 'DREW', 'DYLAN',\n",
              "       'EMILY', 'DIANE', 'KRISTIN', 'MICHEAL', 'EMMANUEL', 'SERGIO',\n",
              "       'MADALENA', 'ANGELICA', 'VINCENT', 'LEONARD', 'MARTHA', 'WILSON',\n",
              "       'HENRY', 'FELICIA', 'MELANIE', 'LESLIE', 'ANNE', 'WHITNEY',\n",
              "       'ARTURO', 'DARRELL', 'DIANA', 'KAITLIN', 'LORRIN', 'SHANE', 'KARL',\n",
              "       'CHRISTINA', 'DAMIEN', 'CATHERINE', 'JAN', 'CAROL', 'BRIAN',\n",
              "       'NAOMI', 'ZOE', 'BRITTANY', 'MANDY', 'MARCO', 'LEE', 'KERN',\n",
              "       'JILLIAN', 'BOBBY', 'RAQUEL', 'NEIL', 'CÉSAR', 'JOSUE', 'ANIBAL',\n",
              "       'RAM', 'WILLIAM', 'SRINIWA', 'MANDAR', 'HAROLD', 'KIRK', 'JANICE',\n",
              "       'IRMA', 'LOLAN', 'BRYCE', 'JUDITH', 'PABLO', 'ALEXANDRE', 'BEN',\n",
              "       'ALICE', 'ANDRÉS', 'MARÍA', 'CONNIE', 'PIETER', 'STUART', 'RALPH',\n",
              "       'K.', 'SCOT', 'MASAKI', 'YIROYUKI', 'NUAN', 'AJAY', 'GIORGIO',\n",
              "       'ALÍCIA', 'ROHINTON', 'CATHY', 'TAMER', 'JEFF', 'ABHIJIT',\n",
              "       'BERNARD', 'MARCEL', 'DAVE', 'MIRCEA', 'RAMÓN', 'MIKAEL', 'SIMON',\n",
              "       'DON', 'OSARUMWENSE', 'JUSTINE', 'ALMA', 'KEN', 'PUNYA', 'ELENA',\n",
              "       'MASATO', 'DIANNE', 'LIZ', 'BIRGIT', 'RAKESH', 'MIKE', 'CAROL ANN',\n",
              "       'LANE', 'BHARAT', 'BEGOÑA', 'SUNIL', 'RENÉE', 'NORIMICHI',\n",
              "       'JUHA-PEKKA', 'SHIRLEEN', 'LANNA', 'ARIF', 'GIRALDO'], dtype=object)"
            ]
          },
          "metadata": {},
          "execution_count": 463
        }
      ]
    },
    {
      "cell_type": "code",
      "source": [
        "maping_gender = with_genders.set_index('FirstName')['Gender'].to_dict()"
      ],
      "metadata": {
        "id": "HBifZflCbLA1"
      },
      "execution_count": 464,
      "outputs": []
    },
    {
      "cell_type": "code",
      "source": [
        "# Função para preencher o gênero com base no mapeamento\n",
        "def preencher_genero(nome):\n",
        "    return maping_gender.get(nome, 'Unknown')"
      ],
      "metadata": {
        "id": "ef7-7WHvbdhd"
      },
      "execution_count": 465,
      "outputs": []
    },
    {
      "cell_type": "markdown",
      "source": [
        "##### DF Cópia"
      ],
      "metadata": {
        "id": "JCY8N2dEsHXW"
      }
    },
    {
      "cell_type": "code",
      "source": [
        "# Aplica a função para preencher o gênero\n",
        "df2 = df.copy() # Testando com a copia do df original\n",
        "df2.loc[df2['Gender'].isna(), 'Gender'] = df2.loc[df2['Gender'].isna(), 'FirstName'].apply(preencher_genero)\n",
        "\n",
        "print(df2[['FirstName', 'LastName', 'Gender']])"
      ],
      "metadata": {
        "colab": {
          "base_uri": "https://localhost:8080/"
        },
        "id": "cYd6vMD2bTd4",
        "outputId": "3e2d9744-b1bb-4941-b0a7-f6f147098726"
      },
      "execution_count": 466,
      "outputs": [
        {
          "output_type": "stream",
          "name": "stdout",
          "text": [
            "       FirstName    LastName Gender\n",
            "0           JOHN      THOMAS      M\n",
            "1           KYLE  WASHINGTON      M\n",
            "2           ROSS        SANZ      M\n",
            "3           SETH       LEWIS      M\n",
            "4      ALEJANDRO        CHEN      M\n",
            "...          ...         ...    ...\n",
            "56041       TROY    GONZALEZ      M\n",
            "56042       TROY    GONZALEZ      M\n",
            "56043       TROY    GONZALEZ      M\n",
            "56044    VALERIE         GUO      F\n",
            "56045    VALERIE         GUO      F\n",
            "\n",
            "[56046 rows x 3 columns]\n"
          ]
        }
      ]
    },
    {
      "cell_type": "code",
      "source": [
        "df2[df2['Gender'] == 'Unknown']"
      ],
      "metadata": {
        "colab": {
          "base_uri": "https://localhost:8080/",
          "height": 99
        },
        "id": "brj9VOogbpEa",
        "outputId": "768d64af-4df9-4d2c-90e8-41ae6defcb8b"
      },
      "execution_count": 467,
      "outputs": [
        {
          "output_type": "execute_result",
          "data": {
            "text/plain": [
              "Empty DataFrame\n",
              "Columns: [OrderDate, Month, Year, ProductName, SubcategoryName, CategoryName, ProductColor, ProductSize, ProductStyle, ProductCost, ProductPrice, Prefix, FirstName, LastName, Age, MaritalStatus, Gender, AnnualIncome, TotalChildren, EducationLevel, HomeOwner, Occupation, Region, Country, Continent, OrderQuantity]\n",
              "Index: []\n",
              "\n",
              "[0 rows x 26 columns]"
            ],
            "text/html": [
              "\n",
              "  <div id=\"df-7a30b5cf-fdf6-4ab7-9ff2-afff160b2c24\" class=\"colab-df-container\">\n",
              "    <div>\n",
              "<style scoped>\n",
              "    .dataframe tbody tr th:only-of-type {\n",
              "        vertical-align: middle;\n",
              "    }\n",
              "\n",
              "    .dataframe tbody tr th {\n",
              "        vertical-align: top;\n",
              "    }\n",
              "\n",
              "    .dataframe thead th {\n",
              "        text-align: right;\n",
              "    }\n",
              "</style>\n",
              "<table border=\"1\" class=\"dataframe\">\n",
              "  <thead>\n",
              "    <tr style=\"text-align: right;\">\n",
              "      <th></th>\n",
              "      <th>OrderDate</th>\n",
              "      <th>Month</th>\n",
              "      <th>Year</th>\n",
              "      <th>ProductName</th>\n",
              "      <th>SubcategoryName</th>\n",
              "      <th>CategoryName</th>\n",
              "      <th>ProductColor</th>\n",
              "      <th>ProductSize</th>\n",
              "      <th>ProductStyle</th>\n",
              "      <th>ProductCost</th>\n",
              "      <th>...</th>\n",
              "      <th>Gender</th>\n",
              "      <th>AnnualIncome</th>\n",
              "      <th>TotalChildren</th>\n",
              "      <th>EducationLevel</th>\n",
              "      <th>HomeOwner</th>\n",
              "      <th>Occupation</th>\n",
              "      <th>Region</th>\n",
              "      <th>Country</th>\n",
              "      <th>Continent</th>\n",
              "      <th>OrderQuantity</th>\n",
              "    </tr>\n",
              "  </thead>\n",
              "  <tbody>\n",
              "  </tbody>\n",
              "</table>\n",
              "<p>0 rows × 26 columns</p>\n",
              "</div>\n",
              "    <div class=\"colab-df-buttons\">\n",
              "\n",
              "  <div class=\"colab-df-container\">\n",
              "    <button class=\"colab-df-convert\" onclick=\"convertToInteractive('df-7a30b5cf-fdf6-4ab7-9ff2-afff160b2c24')\"\n",
              "            title=\"Convert this dataframe to an interactive table.\"\n",
              "            style=\"display:none;\">\n",
              "\n",
              "  <svg xmlns=\"http://www.w3.org/2000/svg\" height=\"24px\" viewBox=\"0 -960 960 960\">\n",
              "    <path d=\"M120-120v-720h720v720H120Zm60-500h600v-160H180v160Zm220 220h160v-160H400v160Zm0 220h160v-160H400v160ZM180-400h160v-160H180v160Zm440 0h160v-160H620v160ZM180-180h160v-160H180v160Zm440 0h160v-160H620v160Z\"/>\n",
              "  </svg>\n",
              "    </button>\n",
              "\n",
              "  <style>\n",
              "    .colab-df-container {\n",
              "      display:flex;\n",
              "      gap: 12px;\n",
              "    }\n",
              "\n",
              "    .colab-df-convert {\n",
              "      background-color: #E8F0FE;\n",
              "      border: none;\n",
              "      border-radius: 50%;\n",
              "      cursor: pointer;\n",
              "      display: none;\n",
              "      fill: #1967D2;\n",
              "      height: 32px;\n",
              "      padding: 0 0 0 0;\n",
              "      width: 32px;\n",
              "    }\n",
              "\n",
              "    .colab-df-convert:hover {\n",
              "      background-color: #E2EBFA;\n",
              "      box-shadow: 0px 1px 2px rgba(60, 64, 67, 0.3), 0px 1px 3px 1px rgba(60, 64, 67, 0.15);\n",
              "      fill: #174EA6;\n",
              "    }\n",
              "\n",
              "    .colab-df-buttons div {\n",
              "      margin-bottom: 4px;\n",
              "    }\n",
              "\n",
              "    [theme=dark] .colab-df-convert {\n",
              "      background-color: #3B4455;\n",
              "      fill: #D2E3FC;\n",
              "    }\n",
              "\n",
              "    [theme=dark] .colab-df-convert:hover {\n",
              "      background-color: #434B5C;\n",
              "      box-shadow: 0px 1px 3px 1px rgba(0, 0, 0, 0.15);\n",
              "      filter: drop-shadow(0px 1px 2px rgba(0, 0, 0, 0.3));\n",
              "      fill: #FFFFFF;\n",
              "    }\n",
              "  </style>\n",
              "\n",
              "    <script>\n",
              "      const buttonEl =\n",
              "        document.querySelector('#df-7a30b5cf-fdf6-4ab7-9ff2-afff160b2c24 button.colab-df-convert');\n",
              "      buttonEl.style.display =\n",
              "        google.colab.kernel.accessAllowed ? 'block' : 'none';\n",
              "\n",
              "      async function convertToInteractive(key) {\n",
              "        const element = document.querySelector('#df-7a30b5cf-fdf6-4ab7-9ff2-afff160b2c24');\n",
              "        const dataTable =\n",
              "          await google.colab.kernel.invokeFunction('convertToInteractive',\n",
              "                                                    [key], {});\n",
              "        if (!dataTable) return;\n",
              "\n",
              "        const docLinkHtml = 'Like what you see? Visit the ' +\n",
              "          '<a target=\"_blank\" href=https://colab.research.google.com/notebooks/data_table.ipynb>data table notebook</a>'\n",
              "          + ' to learn more about interactive tables.';\n",
              "        element.innerHTML = '';\n",
              "        dataTable['output_type'] = 'display_data';\n",
              "        await google.colab.output.renderOutput(dataTable, element);\n",
              "        const docLink = document.createElement('div');\n",
              "        docLink.innerHTML = docLinkHtml;\n",
              "        element.appendChild(docLink);\n",
              "      }\n",
              "    </script>\n",
              "  </div>\n",
              "\n",
              "\n",
              "    </div>\n",
              "  </div>\n"
            ],
            "application/vnd.google.colaboratory.intrinsic+json": {
              "type": "dataframe"
            }
          },
          "metadata": {},
          "execution_count": 467
        }
      ]
    },
    {
      "cell_type": "code",
      "source": [
        "df2['Gender'].unique()"
      ],
      "metadata": {
        "colab": {
          "base_uri": "https://localhost:8080/"
        },
        "id": "LtcS77QWbsiY",
        "outputId": "cfadcb3f-31b3-469b-8ed9-12146d677c4f"
      },
      "execution_count": 468,
      "outputs": [
        {
          "output_type": "execute_result",
          "data": {
            "text/plain": [
              "array(['M', 'F'], dtype=object)"
            ]
          },
          "metadata": {},
          "execution_count": 468
        }
      ]
    },
    {
      "cell_type": "markdown",
      "source": [
        "##### DF Original\n",
        "Agora que eu garanti que todos os gêneros foram preenchidos, posso fazer o mesmo com o dataframe original 'df'"
      ],
      "metadata": {
        "id": "vihFVTumcId0"
      }
    },
    {
      "cell_type": "code",
      "source": [
        "# Aplica a função para preencher o gênero\n",
        "df.loc[df['Gender'].isna(), 'Gender'] = df.loc[df['Gender'].isna(), 'FirstName'].apply(preencher_genero)"
      ],
      "metadata": {
        "id": "GSQAusA2cHU9"
      },
      "execution_count": 469,
      "outputs": []
    },
    {
      "cell_type": "code",
      "source": [
        "df['Gender'].unique()"
      ],
      "metadata": {
        "colab": {
          "base_uri": "https://localhost:8080/"
        },
        "id": "Hse5xQ2QcT7L",
        "outputId": "8023f633-4856-4eff-a7fd-a0b3fc051945"
      },
      "execution_count": 470,
      "outputs": [
        {
          "output_type": "execute_result",
          "data": {
            "text/plain": [
              "array(['M', 'F'], dtype=object)"
            ]
          },
          "metadata": {},
          "execution_count": 470
        }
      ]
    },
    {
      "cell_type": "markdown",
      "source": [
        "#### Tratando feature Prefix\n",
        "\n",
        "Para tratar os Prefixos, posso utilizar a mesma técnica, porém, podem ter variancias, já que MRS. e MS. podem mudar baseado no MartialStatus das pessoas do Gênero Feminino.\n",
        "\n",
        "As duas abordagens que posso seguir são:\n",
        "1. Considerar que toda mulher casada usa o Prefix MRS. e as demais MS.\n",
        "2. Ignorar o MartialStatus e tratar todas as faltantes como MS., já que, no dataset, não é utilizado o Prefix Miss para Não Casadas."
      ],
      "metadata": {
        "id": "YJ-GPOBmeMQq"
      }
    },
    {
      "cell_type": "code",
      "source": [
        "df['Prefix'].unique()"
      ],
      "metadata": {
        "colab": {
          "base_uri": "https://localhost:8080/"
        },
        "id": "eq1ssFb3cac9",
        "outputId": "1c302674-bbdc-4d0d-e039-bc92b78c26f1"
      },
      "execution_count": 471,
      "outputs": [
        {
          "output_type": "execute_result",
          "data": {
            "text/plain": [
              "array(['MR.', 'MRS.', 'MS.', nan], dtype=object)"
            ]
          },
          "metadata": {},
          "execution_count": 471
        }
      ]
    },
    {
      "cell_type": "code",
      "source": [
        "df['MaritalStatus'].unique()"
      ],
      "metadata": {
        "colab": {
          "base_uri": "https://localhost:8080/"
        },
        "id": "gA7HqCaNedPp",
        "outputId": "0065db7f-1429-4f93-81de-f6a9edcf2bb5"
      },
      "execution_count": 472,
      "outputs": [
        {
          "output_type": "execute_result",
          "data": {
            "text/plain": [
              "array(['M', 'S'], dtype=object)"
            ]
          },
          "metadata": {},
          "execution_count": 472
        }
      ]
    },
    {
      "cell_type": "code",
      "source": [
        "def preencher_prefix(row):\n",
        "    if row['Gender'] == 'F' and row['MaritalStatus'] == 'M':\n",
        "        return 'MRS.'\n",
        "    elif row['Gender'] == 'F' and row['MaritalStatus'] == 'S':\n",
        "        return 'MS.'\n",
        "    elif row['Gender'] == 'M':\n",
        "        return 'MR.'"
      ],
      "metadata": {
        "id": "EP9L3v66e1tz"
      },
      "execution_count": 473,
      "outputs": []
    },
    {
      "cell_type": "markdown",
      "source": [
        "##### DF Cópia"
      ],
      "metadata": {
        "id": "PSuEXfGbr_lh"
      }
    },
    {
      "cell_type": "code",
      "source": [
        "# Aplica a função apenas nas linhas onde 'Prefix' é nulo\n",
        "df3 = df.copy()\n",
        "df3.loc[df3['Prefix'].isna(), 'Prefix'] = df3[df3['Prefix'].isna()].apply(preencher_prefix, axis=1)"
      ],
      "metadata": {
        "id": "YjwLWO71g0m8"
      },
      "execution_count": 474,
      "outputs": []
    },
    {
      "cell_type": "code",
      "source": [
        "df3['Prefix'].unique()"
      ],
      "metadata": {
        "colab": {
          "base_uri": "https://localhost:8080/"
        },
        "id": "AggxWvp8hLFO",
        "outputId": "3d01a1fa-32c7-45c2-d005-6fdf51ce3285"
      },
      "execution_count": 475,
      "outputs": [
        {
          "output_type": "execute_result",
          "data": {
            "text/plain": [
              "array(['MR.', 'MRS.', 'MS.'], dtype=object)"
            ]
          },
          "metadata": {},
          "execution_count": 475
        }
      ]
    },
    {
      "cell_type": "code",
      "source": [
        "df3.loc[df3['Gender'] == 'M', 'Prefix'].unique() # Garantindo que toda pessoa do Gênero M seja 'MR.'"
      ],
      "metadata": {
        "colab": {
          "base_uri": "https://localhost:8080/"
        },
        "id": "oJ5BBZZ5hMgV",
        "outputId": "3751e044-c10a-47e2-cd4e-634d4e19168d"
      },
      "execution_count": 476,
      "outputs": [
        {
          "output_type": "execute_result",
          "data": {
            "text/plain": [
              "array(['MR.'], dtype=object)"
            ]
          },
          "metadata": {},
          "execution_count": 476
        }
      ]
    },
    {
      "cell_type": "markdown",
      "source": [
        "##### DF Original\n",
        "Agora que eu garanti que todos os Prefix foram preenchidos, posso fazer o mesmo com o dataframe original 'df'"
      ],
      "metadata": {
        "id": "-eAlZTqUjSyx"
      }
    },
    {
      "cell_type": "code",
      "source": [
        "df.loc[df['Prefix'].isna(), 'Prefix'] = df[df['Prefix'].isna()].apply(preencher_prefix, axis=1)"
      ],
      "metadata": {
        "id": "ZeE2pNjIjRb-"
      },
      "execution_count": 477,
      "outputs": []
    },
    {
      "cell_type": "code",
      "source": [
        "df['Prefix'].unique()"
      ],
      "metadata": {
        "colab": {
          "base_uri": "https://localhost:8080/"
        },
        "id": "5PEIfm4ljZ3r",
        "outputId": "0b0c873c-c6c2-4968-a4a9-52643b4895ac"
      },
      "execution_count": 478,
      "outputs": [
        {
          "output_type": "execute_result",
          "data": {
            "text/plain": [
              "array(['MR.', 'MRS.', 'MS.'], dtype=object)"
            ]
          },
          "metadata": {},
          "execution_count": 478
        }
      ]
    },
    {
      "cell_type": "code",
      "source": [
        "df.loc[df['Gender'] == 'M', 'Prefix'].unique()"
      ],
      "metadata": {
        "colab": {
          "base_uri": "https://localhost:8080/"
        },
        "id": "7B6pjVWijber",
        "outputId": "d17f62db-2abb-484d-8677-3157c2f880ae"
      },
      "execution_count": 479,
      "outputs": [
        {
          "output_type": "execute_result",
          "data": {
            "text/plain": [
              "array(['MR.'], dtype=object)"
            ]
          },
          "metadata": {},
          "execution_count": 479
        }
      ]
    },
    {
      "cell_type": "markdown",
      "source": [
        "#### Tratando feature ProductColor"
      ],
      "metadata": {
        "id": "J3D2JmlTjf__"
      }
    },
    {
      "cell_type": "code",
      "source": [
        "df['ProductColor'].unique()"
      ],
      "metadata": {
        "colab": {
          "base_uri": "https://localhost:8080/"
        },
        "id": "DXW1fbzFkEHb",
        "outputId": "a432b4b9-0556-402d-bec2-c518507e505a"
      },
      "execution_count": 480,
      "outputs": [
        {
          "output_type": "execute_result",
          "data": {
            "text/plain": [
              "array(['Black', 'Red', 'Silver', 'Yellow', nan, 'Blue', 'Multi', 'White'],\n",
              "      dtype=object)"
            ]
          },
          "metadata": {},
          "execution_count": 480
        }
      ]
    },
    {
      "cell_type": "code",
      "source": [
        "def verificar_cores_por_produto(df):\n",
        "    grouped = df.groupby('ProductName')['ProductColor'].unique()\n",
        "    dicionario_cores = grouped.to_dict()\n",
        "\n",
        "    return dicionario_cores"
      ],
      "metadata": {
        "id": "UhurvHX6jdyB"
      },
      "execution_count": 481,
      "outputs": []
    },
    {
      "cell_type": "code",
      "source": [
        "product_colors = verificar_cores_por_produto(df)\n",
        "product_colors"
      ],
      "metadata": {
        "colab": {
          "base_uri": "https://localhost:8080/"
        },
        "id": "ToaDXnUhj_CM",
        "outputId": "5150ff12-232e-4a5a-eeff-1efee21e3414"
      },
      "execution_count": 482,
      "outputs": [
        {
          "output_type": "execute_result",
          "data": {
            "text/plain": [
              "{'AWC Logo Cap': array(['Multi'], dtype=object),\n",
              " 'All-Purpose Bike Stand': array([nan], dtype=object),\n",
              " 'Bike Wash - Dissolver': array([nan], dtype=object),\n",
              " 'Classic Vest, L': array(['Blue'], dtype=object),\n",
              " 'Classic Vest, M': array(['Blue'], dtype=object),\n",
              " 'Classic Vest, S': array(['Blue'], dtype=object),\n",
              " 'Fender Set - Mountain': array([nan], dtype=object),\n",
              " 'HL Mountain Tire': array([nan], dtype=object),\n",
              " 'HL Road Tire': array([nan], dtype=object),\n",
              " 'Half-Finger Gloves, L': array(['Black'], dtype=object),\n",
              " 'Half-Finger Gloves, M': array(['Black'], dtype=object),\n",
              " 'Half-Finger Gloves, S': array(['Black'], dtype=object),\n",
              " 'Hitch Rack - 4-Bike': array([nan], dtype=object),\n",
              " 'Hydration Pack - 70 oz.': array(['Silver'], dtype=object),\n",
              " 'LL Mountain Tire': array([nan], dtype=object),\n",
              " 'LL Road Tire': array([nan], dtype=object),\n",
              " 'Long-Sleeve Logo Jersey, L': array(['Multi'], dtype=object),\n",
              " 'Long-Sleeve Logo Jersey, M': array(['Multi'], dtype=object),\n",
              " 'Long-Sleeve Logo Jersey, S': array(['Multi'], dtype=object),\n",
              " 'Long-Sleeve Logo Jersey, XL': array(['Multi'], dtype=object),\n",
              " 'ML Mountain Tire': array([nan], dtype=object),\n",
              " 'ML Road Tire': array([nan], dtype=object),\n",
              " 'Mountain Bottle Cage': array([nan], dtype=object),\n",
              " 'Mountain Tire Tube': array([nan], dtype=object),\n",
              " 'Mountain-100 Black, 38': array(['Black'], dtype=object),\n",
              " 'Mountain-100 Black, 42': array(['Black'], dtype=object),\n",
              " 'Mountain-100 Black, 44': array(['Black'], dtype=object),\n",
              " 'Mountain-100 Black, 48': array(['Black'], dtype=object),\n",
              " 'Mountain-100 Silver, 38': array(['Silver'], dtype=object),\n",
              " 'Mountain-100 Silver, 42': array(['Silver'], dtype=object),\n",
              " 'Mountain-100 Silver, 44': array(['Silver'], dtype=object),\n",
              " 'Mountain-100 Silver, 48': array(['Silver'], dtype=object),\n",
              " 'Mountain-200 Black, 38': array(['Black'], dtype=object),\n",
              " 'Mountain-200 Black, 42': array(['Black'], dtype=object),\n",
              " 'Mountain-200 Black, 46': array(['Black'], dtype=object),\n",
              " 'Mountain-200 Silver, 38': array(['Silver'], dtype=object),\n",
              " 'Mountain-200 Silver, 42': array(['Silver'], dtype=object),\n",
              " 'Mountain-200 Silver, 46': array(['Silver'], dtype=object),\n",
              " 'Mountain-400-W Silver, 38': array(['Silver'], dtype=object),\n",
              " 'Mountain-400-W Silver, 40': array(['Silver'], dtype=object),\n",
              " 'Mountain-400-W Silver, 42': array(['Silver'], dtype=object),\n",
              " 'Mountain-400-W Silver, 46': array(['Silver'], dtype=object),\n",
              " 'Mountain-500 Black, 40': array(['Black'], dtype=object),\n",
              " 'Mountain-500 Black, 42': array(['Black'], dtype=object),\n",
              " 'Mountain-500 Black, 44': array(['Black'], dtype=object),\n",
              " 'Mountain-500 Black, 48': array(['Black'], dtype=object),\n",
              " 'Mountain-500 Black, 52': array(['Black'], dtype=object),\n",
              " 'Mountain-500 Silver, 40': array(['Silver'], dtype=object),\n",
              " 'Mountain-500 Silver, 42': array(['Silver'], dtype=object),\n",
              " 'Mountain-500 Silver, 44': array(['Silver'], dtype=object),\n",
              " 'Mountain-500 Silver, 48': array(['Silver'], dtype=object),\n",
              " 'Mountain-500 Silver, 52': array(['Silver'], dtype=object),\n",
              " 'Patch Kit/8 Patches': array([nan], dtype=object),\n",
              " 'Racing Socks, L': array(['White'], dtype=object),\n",
              " 'Racing Socks, M': array(['White'], dtype=object),\n",
              " 'Road Bottle Cage': array([nan], dtype=object),\n",
              " 'Road Tire Tube': array([nan], dtype=object),\n",
              " 'Road-150 Red, 44': array(['Red'], dtype=object),\n",
              " 'Road-150 Red, 48': array(['Red'], dtype=object),\n",
              " 'Road-150 Red, 52': array(['Red'], dtype=object),\n",
              " 'Road-150 Red, 56': array(['Red'], dtype=object),\n",
              " 'Road-150 Red, 62': array(['Red'], dtype=object),\n",
              " 'Road-250 Black, 44': array(['Black'], dtype=object),\n",
              " 'Road-250 Black, 48': array(['Black'], dtype=object),\n",
              " 'Road-250 Black, 52': array(['Black'], dtype=object),\n",
              " 'Road-250 Black, 58': array(['Black'], dtype=object),\n",
              " 'Road-250 Red, 44': array(['Red'], dtype=object),\n",
              " 'Road-250 Red, 48': array(['Red'], dtype=object),\n",
              " 'Road-250 Red, 52': array(['Red'], dtype=object),\n",
              " 'Road-250 Red, 58': array(['Red'], dtype=object),\n",
              " 'Road-350-W Yellow, 40': array(['Yellow'], dtype=object),\n",
              " 'Road-350-W Yellow, 42': array(['Yellow'], dtype=object),\n",
              " 'Road-350-W Yellow, 44': array(['Yellow'], dtype=object),\n",
              " 'Road-350-W Yellow, 48': array(['Yellow'], dtype=object),\n",
              " 'Road-550-W Yellow, 38': array(['Yellow'], dtype=object),\n",
              " 'Road-550-W Yellow, 40': array(['Yellow'], dtype=object),\n",
              " 'Road-550-W Yellow, 42': array(['Yellow'], dtype=object),\n",
              " 'Road-550-W Yellow, 44': array(['Yellow'], dtype=object),\n",
              " 'Road-550-W Yellow, 48': array(['Yellow'], dtype=object),\n",
              " 'Road-650 Black, 44': array(['Black'], dtype=object),\n",
              " 'Road-650 Black, 48': array(['Black'], dtype=object),\n",
              " 'Road-650 Black, 52': array(['Black'], dtype=object),\n",
              " 'Road-650 Black, 58': array(['Black'], dtype=object),\n",
              " 'Road-650 Black, 60': array(['Black'], dtype=object),\n",
              " 'Road-650 Black, 62': array(['Black'], dtype=object),\n",
              " 'Road-650 Red, 44': array(['Red'], dtype=object),\n",
              " 'Road-650 Red, 48': array(['Red'], dtype=object),\n",
              " 'Road-650 Red, 52': array(['Red'], dtype=object),\n",
              " 'Road-650 Red, 58': array(['Red'], dtype=object),\n",
              " 'Road-650 Red, 60': array(['Red'], dtype=object),\n",
              " 'Road-650 Red, 62': array(['Red'], dtype=object),\n",
              " 'Road-750 Black, 44': array(['Black'], dtype=object),\n",
              " 'Road-750 Black, 48': array(['Black'], dtype=object),\n",
              " 'Road-750 Black, 52': array(['Black'], dtype=object),\n",
              " 'Road-750 Black, 58': array(['Black'], dtype=object),\n",
              " 'Short-Sleeve Classic Jersey, L': array(['Yellow'], dtype=object),\n",
              " 'Short-Sleeve Classic Jersey, M': array(['Yellow'], dtype=object),\n",
              " 'Short-Sleeve Classic Jersey, S': array(['Yellow'], dtype=object),\n",
              " 'Short-Sleeve Classic Jersey, XL': array(['Yellow'], dtype=object),\n",
              " 'Sport-100 Helmet, Black': array(['Black'], dtype=object),\n",
              " 'Sport-100 Helmet, Blue': array(['Blue'], dtype=object),\n",
              " 'Sport-100 Helmet, Red': array(['Red'], dtype=object),\n",
              " 'Touring Tire': array([nan], dtype=object),\n",
              " 'Touring Tire Tube': array([nan], dtype=object),\n",
              " 'Touring-1000 Blue, 46': array(['Blue'], dtype=object),\n",
              " 'Touring-1000 Blue, 50': array(['Blue'], dtype=object),\n",
              " 'Touring-1000 Blue, 54': array(['Blue'], dtype=object),\n",
              " 'Touring-1000 Blue, 60': array(['Blue'], dtype=object),\n",
              " 'Touring-1000 Yellow, 46': array(['Yellow'], dtype=object),\n",
              " 'Touring-1000 Yellow, 50': array(['Yellow'], dtype=object),\n",
              " 'Touring-1000 Yellow, 54': array(['Yellow'], dtype=object),\n",
              " 'Touring-1000 Yellow, 60': array(['Yellow'], dtype=object),\n",
              " 'Touring-2000 Blue, 46': array(['Blue'], dtype=object),\n",
              " 'Touring-2000 Blue, 50': array(['Blue'], dtype=object),\n",
              " 'Touring-2000 Blue, 54': array(['Blue'], dtype=object),\n",
              " 'Touring-2000 Blue, 60': array(['Blue'], dtype=object),\n",
              " 'Touring-3000 Blue, 44': array(['Blue'], dtype=object),\n",
              " 'Touring-3000 Blue, 50': array(['Blue'], dtype=object),\n",
              " 'Touring-3000 Blue, 54': array(['Blue'], dtype=object),\n",
              " 'Touring-3000 Blue, 58': array(['Blue'], dtype=object),\n",
              " 'Touring-3000 Blue, 62': array(['Blue'], dtype=object),\n",
              " 'Touring-3000 Yellow, 44': array(['Yellow'], dtype=object),\n",
              " 'Touring-3000 Yellow, 50': array(['Yellow'], dtype=object),\n",
              " 'Touring-3000 Yellow, 54': array(['Yellow'], dtype=object),\n",
              " 'Touring-3000 Yellow, 58': array(['Yellow'], dtype=object),\n",
              " 'Touring-3000 Yellow, 62': array(['Yellow'], dtype=object),\n",
              " 'Water Bottle - 30 oz.': array([nan], dtype=object),\n",
              " \"Women's Mountain Shorts, L\": array(['Black'], dtype=object),\n",
              " \"Women's Mountain Shorts, M\": array(['Black'], dtype=object),\n",
              " \"Women's Mountain Shorts, S\": array(['Black'], dtype=object)}"
            ]
          },
          "metadata": {},
          "execution_count": 482
        }
      ]
    },
    {
      "cell_type": "code",
      "source": [
        "df_nan = df[df['ProductColor'].isna()]\n",
        "dict_colorsnan = verificar_cores_por_produto(df_nan)\n",
        "dict_colorsnan"
      ],
      "metadata": {
        "colab": {
          "base_uri": "https://localhost:8080/"
        },
        "id": "2FiyNs37kLK9",
        "outputId": "094a522a-4b09-49fa-f37a-4ac687a28613"
      },
      "execution_count": 483,
      "outputs": [
        {
          "output_type": "execute_result",
          "data": {
            "text/plain": [
              "{'All-Purpose Bike Stand': array([nan], dtype=object),\n",
              " 'Bike Wash - Dissolver': array([nan], dtype=object),\n",
              " 'Fender Set - Mountain': array([nan], dtype=object),\n",
              " 'HL Mountain Tire': array([nan], dtype=object),\n",
              " 'HL Road Tire': array([nan], dtype=object),\n",
              " 'Hitch Rack - 4-Bike': array([nan], dtype=object),\n",
              " 'LL Mountain Tire': array([nan], dtype=object),\n",
              " 'LL Road Tire': array([nan], dtype=object),\n",
              " 'ML Mountain Tire': array([nan], dtype=object),\n",
              " 'ML Road Tire': array([nan], dtype=object),\n",
              " 'Mountain Bottle Cage': array([nan], dtype=object),\n",
              " 'Mountain Tire Tube': array([nan], dtype=object),\n",
              " 'Patch Kit/8 Patches': array([nan], dtype=object),\n",
              " 'Road Bottle Cage': array([nan], dtype=object),\n",
              " 'Road Tire Tube': array([nan], dtype=object),\n",
              " 'Touring Tire': array([nan], dtype=object),\n",
              " 'Touring Tire Tube': array([nan], dtype=object),\n",
              " 'Water Bottle - 30 oz.': array([nan], dtype=object)}"
            ]
          },
          "metadata": {},
          "execution_count": 483
        }
      ]
    },
    {
      "cell_type": "markdown",
      "source": [
        "Fazendo uma pesquisa rápida na internet sobre cada produto, pode-se concluir que maior parte desses itens são de cor preta ou onde a cor é irrelevante, logo, posso seguir as seguintes opções\n",
        "\n",
        "1. Todos os Produtos que são 'Tires' ou associados a ela, como os 'Patches', posso declara-las como 'Black'.\n",
        "2. Os \"Gadgets\" para bicicleta também podem ser consideradas como 'Black'.\n",
        "3. 'Water Bottle' e 'Bike Wash' são os produtos onde a cor pode ser diversa, bastaria identificar quantos são comprados e considerar eles como a cor 'Multi'"
      ],
      "metadata": {
        "id": "CYCzBOqclu__"
      }
    },
    {
      "cell_type": "markdown",
      "source": [
        "##### DF Cópia"
      ],
      "metadata": {
        "id": "6PWsp_Ibr9CO"
      }
    },
    {
      "cell_type": "code",
      "source": [
        "# Filtrar os itens que possuem 'Tire' no nome e cor como NaN\n",
        "df4 = df.copy()\n",
        "filtro_tire_sem_cor = (df4['ProductName'].str.contains('Tire')) & (df4['ProductColor'].isna())"
      ],
      "metadata": {
        "id": "kV3y026XlGQ7"
      },
      "execution_count": 484,
      "outputs": []
    },
    {
      "cell_type": "code",
      "source": [
        "# Substituir os valores NaN na coluna 'ProductColor' por 'Black'\n",
        "df4.loc[filtro_tire_sem_cor, 'ProductColor'] = 'Black'"
      ],
      "metadata": {
        "id": "-U38Y74onOXq"
      },
      "execution_count": 485,
      "outputs": []
    },
    {
      "cell_type": "code",
      "source": [
        "# Filtrar os itens que possuem 'Water Bottle|Bike Wash]' no nome e cor como NaN\n",
        "filtro_water_bike_sem_cor = (df4['ProductName'].str.contains('Water Bottle|Bike Wash')) & (df4['ProductColor'].isna())"
      ],
      "metadata": {
        "id": "5sFEDKtVnbk1"
      },
      "execution_count": 486,
      "outputs": []
    },
    {
      "cell_type": "code",
      "source": [
        "# Substituir os valores NaN na coluna 'ProductColor' por 'Multi'\n",
        "df4.loc[filtro_water_bike_sem_cor, 'ProductColor'] = 'Multi'"
      ],
      "metadata": {
        "id": "wI7w8mkcnsd5"
      },
      "execution_count": 487,
      "outputs": []
    },
    {
      "cell_type": "code",
      "source": [
        "# Colocando os demais produtos como ProductColor = 'Black'\n",
        "df4['ProductColor'] = df4['ProductColor'].fillna('Black')"
      ],
      "metadata": {
        "id": "JypQPsQSoUzh"
      },
      "execution_count": 488,
      "outputs": []
    },
    {
      "cell_type": "code",
      "source": [
        "# Verificando se ainda existem dados nulos\n",
        "df4.info()"
      ],
      "metadata": {
        "colab": {
          "base_uri": "https://localhost:8080/"
        },
        "id": "THlA-4fdotYd",
        "outputId": "2aa0b31f-a4de-457e-8ec4-04a052b365a4"
      },
      "execution_count": 489,
      "outputs": [
        {
          "output_type": "stream",
          "name": "stdout",
          "text": [
            "<class 'pandas.core.frame.DataFrame'>\n",
            "RangeIndex: 56046 entries, 0 to 56045\n",
            "Data columns (total 26 columns):\n",
            " #   Column           Non-Null Count  Dtype         \n",
            "---  ------           --------------  -----         \n",
            " 0   OrderDate        56046 non-null  datetime64[ns]\n",
            " 1   Month            56046 non-null  int32         \n",
            " 2   Year             56046 non-null  int32         \n",
            " 3   ProductName      56046 non-null  object        \n",
            " 4   SubcategoryName  56046 non-null  object        \n",
            " 5   CategoryName     56046 non-null  object        \n",
            " 6   ProductColor     56046 non-null  object        \n",
            " 7   ProductSize      56046 non-null  object        \n",
            " 8   ProductStyle     56046 non-null  object        \n",
            " 9   ProductCost      56046 non-null  float64       \n",
            " 10  ProductPrice     56046 non-null  float64       \n",
            " 11  Prefix           56046 non-null  object        \n",
            " 12  FirstName        56046 non-null  object        \n",
            " 13  LastName         56046 non-null  object        \n",
            " 14  Age              56046 non-null  int32         \n",
            " 15  MaritalStatus    56046 non-null  object        \n",
            " 16  Gender           56046 non-null  object        \n",
            " 17  AnnualIncome     56046 non-null  float64       \n",
            " 18  TotalChildren    56046 non-null  int64         \n",
            " 19  EducationLevel   56046 non-null  object        \n",
            " 20  HomeOwner        56046 non-null  object        \n",
            " 21  Occupation       56046 non-null  object        \n",
            " 22  Region           56046 non-null  object        \n",
            " 23  Country          56046 non-null  object        \n",
            " 24  Continent        56046 non-null  object        \n",
            " 25  OrderQuantity    56046 non-null  int64         \n",
            "dtypes: datetime64[ns](1), float64(3), int32(3), int64(2), object(17)\n",
            "memory usage: 10.5+ MB\n"
          ]
        }
      ]
    },
    {
      "cell_type": "markdown",
      "source": [
        "##### DF Original\n",
        "Agora que eu garanti que todos os ProductColor foram preenchidos, posso fazer o mesmo com o dataframe original 'df'"
      ],
      "metadata": {
        "id": "56gxIY2zrXOI"
      }
    },
    {
      "cell_type": "code",
      "source": [
        "# Filtrar os itens que possuem 'Tire' no nome e cor como NaN\n",
        "filtro_tire_sem_cor = (df['ProductName'].str.contains('Tire')) & (df['ProductColor'].isna())"
      ],
      "metadata": {
        "id": "0WSW0idhrdiu"
      },
      "execution_count": 490,
      "outputs": []
    },
    {
      "cell_type": "code",
      "source": [
        "# Substituir os valores NaN na coluna 'ProductColor' por 'Black'\n",
        "df.loc[filtro_tire_sem_cor, 'ProductColor'] = 'Black'"
      ],
      "metadata": {
        "id": "33_fq8mXrlH1"
      },
      "execution_count": 491,
      "outputs": []
    },
    {
      "cell_type": "code",
      "source": [
        "# Filtrar os itens que possuem 'Water Bottle|Bike Wash]' no nome e cor como NaN\n",
        "filtro_water_bike_sem_cor = (df['ProductName'].str.contains('Water Bottle|Bike Wash')) & (df['ProductColor'].isna())"
      ],
      "metadata": {
        "id": "eX5-ggr-rn0P"
      },
      "execution_count": 492,
      "outputs": []
    },
    {
      "cell_type": "code",
      "source": [
        "# Substituir os valores NaN na coluna 'ProductColor' por 'Multi'\n",
        "df.loc[filtro_water_bike_sem_cor, 'ProductColor'] = 'Multi'"
      ],
      "metadata": {
        "id": "CqIWgG7Dr0ru"
      },
      "execution_count": 493,
      "outputs": []
    },
    {
      "cell_type": "code",
      "source": [
        "# Colocando os demais produtos como ProductColor = 'Black'\n",
        "df['ProductColor'] = df['ProductColor'].fillna('Black')"
      ],
      "metadata": {
        "id": "55nUXMnMr3bQ"
      },
      "execution_count": 494,
      "outputs": []
    },
    {
      "cell_type": "code",
      "source": [
        "# Verificando se ainda existem dados nulos\n",
        "df.info()"
      ],
      "metadata": {
        "colab": {
          "base_uri": "https://localhost:8080/"
        },
        "id": "GLwLl2fBr6AF",
        "outputId": "ea2b46fe-0389-495b-816f-31bf58872aef"
      },
      "execution_count": 495,
      "outputs": [
        {
          "output_type": "stream",
          "name": "stdout",
          "text": [
            "<class 'pandas.core.frame.DataFrame'>\n",
            "RangeIndex: 56046 entries, 0 to 56045\n",
            "Data columns (total 26 columns):\n",
            " #   Column           Non-Null Count  Dtype         \n",
            "---  ------           --------------  -----         \n",
            " 0   OrderDate        56046 non-null  datetime64[ns]\n",
            " 1   Month            56046 non-null  int32         \n",
            " 2   Year             56046 non-null  int32         \n",
            " 3   ProductName      56046 non-null  object        \n",
            " 4   SubcategoryName  56046 non-null  object        \n",
            " 5   CategoryName     56046 non-null  object        \n",
            " 6   ProductColor     56046 non-null  object        \n",
            " 7   ProductSize      56046 non-null  object        \n",
            " 8   ProductStyle     56046 non-null  object        \n",
            " 9   ProductCost      56046 non-null  float64       \n",
            " 10  ProductPrice     56046 non-null  float64       \n",
            " 11  Prefix           56046 non-null  object        \n",
            " 12  FirstName        56046 non-null  object        \n",
            " 13  LastName         56046 non-null  object        \n",
            " 14  Age              56046 non-null  int32         \n",
            " 15  MaritalStatus    56046 non-null  object        \n",
            " 16  Gender           56046 non-null  object        \n",
            " 17  AnnualIncome     56046 non-null  float64       \n",
            " 18  TotalChildren    56046 non-null  int64         \n",
            " 19  EducationLevel   56046 non-null  object        \n",
            " 20  HomeOwner        56046 non-null  object        \n",
            " 21  Occupation       56046 non-null  object        \n",
            " 22  Region           56046 non-null  object        \n",
            " 23  Country          56046 non-null  object        \n",
            " 24  Continent        56046 non-null  object        \n",
            " 25  OrderQuantity    56046 non-null  int64         \n",
            "dtypes: datetime64[ns](1), float64(3), int32(3), int64(2), object(17)\n",
            "memory usage: 10.5+ MB\n"
          ]
        }
      ]
    },
    {
      "cell_type": "markdown",
      "source": [
        "## Feature Engineering\n",
        "\n",
        "Média móvel -> A média móvel é um indicador usado na análise técnica de ativos para identificar tendências de alta ou baixa, e confirmar a direção do mercado\n",
        "\n",
        "Variação Percentual das Vendas -> A variação percentual é um indicador de desempenho de vendas que mostra como o desempenho de vendas corresponde"
      ],
      "metadata": {
        "id": "LxCAYMMsvjxY"
      }
    },
    {
      "cell_type": "code",
      "source": [
        "df = df.sort_values(by='OrderDate')"
      ],
      "metadata": {
        "id": "UMeOEPDZwDRN"
      },
      "execution_count": 496,
      "outputs": []
    },
    {
      "cell_type": "code",
      "source": [
        "# Criar uma média móvel das vendas dos últimos 3 e 6 meses\n",
        "df['OrderQuantity_MA3'] = df['OrderQuantity'].rolling(window=3).mean()\n",
        "df['OrderQuantity_MA6'] = df['OrderQuantity'].rolling(window=6).mean()"
      ],
      "metadata": {
        "id": "el9UErpiwI5F"
      },
      "execution_count": 497,
      "outputs": []
    },
    {
      "cell_type": "code",
      "source": [
        "# Calcular a variação percentual das vendas em relação ao mês anterior\n",
        "df['OrderQuantity_pct_change'] = df['OrderQuantity'].pct_change()"
      ],
      "metadata": {
        "id": "ih1FGeE6wS6g"
      },
      "execution_count": 498,
      "outputs": []
    },
    {
      "cell_type": "code",
      "source": [
        "# Imputar valores nulos com a média da coluna\n",
        "df['OrderQuantity_MA3'].fillna(df['OrderQuantity_MA3'].mean(), inplace=True)\n",
        "df['OrderQuantity_MA6'].fillna(df['OrderQuantity_MA6'].mean(), inplace=True)\n",
        "df['OrderQuantity_pct_change'].fillna(df['OrderQuantity_pct_change'].mean(), inplace=True)"
      ],
      "metadata": {
        "id": "spD3-Rf-wnk5"
      },
      "execution_count": 499,
      "outputs": []
    },
    {
      "cell_type": "markdown",
      "source": [
        "#### Dados para Teste\n",
        "\n",
        "Estarei removendo o ultimo mês de vendas do dataset para poder testar com ele no final e comparar com o realizado"
      ],
      "metadata": {
        "id": "2euTXZp5zkeT"
      }
    },
    {
      "cell_type": "code",
      "source": [
        "#mask = (df['Year'] == 2017) & (df['Month'] >= 6)\n",
        "#df_teste = df[mask]"
      ],
      "metadata": {
        "id": "9YhzYnqKy_C3"
      },
      "execution_count": 500,
      "outputs": []
    },
    {
      "cell_type": "code",
      "source": [
        "#df_teste.to_csv('dataset_teste_6_2017.csv', index=False)"
      ],
      "metadata": {
        "id": "E8dGy4pSzVpp"
      },
      "execution_count": 501,
      "outputs": []
    },
    {
      "cell_type": "code",
      "source": [
        "#df = df[~mask]"
      ],
      "metadata": {
        "id": "5OFo0Z_yz_hy"
      },
      "execution_count": 502,
      "outputs": []
    },
    {
      "cell_type": "markdown",
      "source": [
        "Agora que os dados nulos foram tratados, posso seguir com a Codificação de variáveis"
      ],
      "metadata": {
        "id": "cVyrzrqHpJZW"
      }
    },
    {
      "cell_type": "markdown",
      "source": [
        "#### Codificação de Variáveis"
      ],
      "metadata": {
        "id": "vM5v2xacpSSY"
      }
    },
    {
      "cell_type": "code",
      "source": [
        "# Listar colunas categóricas para one-hot encoder\n",
        "categorical_columns = [\n",
        "    'ProductName', 'SubcategoryName', 'CategoryName', 'ProductColor',\n",
        "    'ProductSize', 'ProductStyle', 'Prefix', 'MaritalStatus', 'Gender',\n",
        "    'EducationLevel', 'HomeOwner', 'Occupation', 'Region', 'Country', 'Continent'\n",
        "]"
      ],
      "metadata": {
        "id": "kSJPfVA6oy_z"
      },
      "execution_count": 503,
      "outputs": []
    },
    {
      "cell_type": "code",
      "source": [
        "# One-Hot Encoder\n",
        "df_encoded = pd.get_dummies(df, columns=categorical_columns)"
      ],
      "metadata": {
        "id": "a7o8KAjhsSMW"
      },
      "execution_count": 504,
      "outputs": []
    },
    {
      "cell_type": "markdown",
      "source": [
        "#### Normalização de Variáveis"
      ],
      "metadata": {
        "id": "VLminfHPtaOC"
      }
    },
    {
      "cell_type": "code",
      "source": [
        "from sklearn.preprocessing import MinMaxScaler"
      ],
      "metadata": {
        "id": "vIMIw-eRtTNT"
      },
      "execution_count": 505,
      "outputs": []
    },
    {
      "cell_type": "code",
      "source": [
        "# Variáveis numéricas para normalização\n",
        "numerical_columns = ['ProductCost', 'ProductPrice', 'Age', 'AnnualIncome']"
      ],
      "metadata": {
        "id": "a11XxOMxtf8G"
      },
      "execution_count": 506,
      "outputs": []
    },
    {
      "cell_type": "code",
      "source": [
        "# Normalização\n",
        "scaler = MinMaxScaler()\n",
        "df_encoded[numerical_columns] = scaler.fit_transform(df_encoded[numerical_columns])"
      ],
      "metadata": {
        "id": "mqB0ypyetiBc"
      },
      "execution_count": 507,
      "outputs": []
    },
    {
      "cell_type": "markdown",
      "source": [
        "#### Padronização de Variáveis"
      ],
      "metadata": {
        "id": "oGIFOexeuwgY"
      }
    },
    {
      "cell_type": "code",
      "source": [
        "from sklearn.preprocessing import StandardScaler"
      ],
      "metadata": {
        "id": "qW27GL2ttl55"
      },
      "execution_count": 508,
      "outputs": []
    },
    {
      "cell_type": "code",
      "source": [
        "# Padronização\n",
        "scaler = StandardScaler()\n",
        "df_encoded[numerical_columns] = scaler.fit_transform(df_encoded[numerical_columns])"
      ],
      "metadata": {
        "id": "vgPr3pngu0Ky"
      },
      "execution_count": 509,
      "outputs": []
    },
    {
      "cell_type": "code",
      "source": [
        "df_encoded['OrderYear'] = df['OrderDate'].dt.year\n",
        "df_encoded['OrderMonth'] = df['OrderDate'].dt.month\n",
        "df_encoded['OrderDay'] = df['OrderDate'].dt.day\n",
        "df_encoded['OrderDayOfWeek'] = df['OrderDate'].dt.dayofweek"
      ],
      "metadata": {
        "id": "Khecz4Hgu1qD"
      },
      "execution_count": 510,
      "outputs": []
    },
    {
      "cell_type": "code",
      "source": [
        "# Remover a coluna original OrderDate\n",
        "df_encoded.drop(columns=['OrderDate'], inplace=True)\n",
        "df_encoded.drop(columns=['Year'], inplace=True)\n",
        "df_encoded.drop(columns=['Month'], inplace=True)\n",
        "df_encoded.drop(columns=['FirstName'], inplace=True)\n",
        "df_encoded.drop(columns=['LastName'], inplace=True)"
      ],
      "metadata": {
        "id": "MbY5P1ZuvAJe"
      },
      "execution_count": 511,
      "outputs": []
    },
    {
      "cell_type": "markdown",
      "source": [
        "## Modelagem"
      ],
      "metadata": {
        "id": "gOEveeO_x1Ue"
      }
    },
    {
      "cell_type": "markdown",
      "source": [
        "##### Preparação dos dados em Features e Target"
      ],
      "metadata": {
        "id": "lcgPgH6L0ldp"
      }
    },
    {
      "cell_type": "code",
      "source": [
        "from sklearn.model_selection import train_test_split"
      ],
      "metadata": {
        "id": "_km41E2a0P_c"
      },
      "execution_count": 512,
      "outputs": []
    },
    {
      "cell_type": "code",
      "source": [
        "# Dividindo as features e o target\n",
        "X = df_encoded.drop(columns=['OrderQuantity'])\n",
        "y = df_encoded['OrderQuantity']"
      ],
      "metadata": {
        "id": "YVictLqq0Rjo"
      },
      "execution_count": 513,
      "outputs": []
    },
    {
      "cell_type": "code",
      "source": [
        "# Separando dados de treino e test\n",
        "X_train, X_test, y_train, y_test = train_test_split(X, y, test_size=0.2, random_state=42)"
      ],
      "metadata": {
        "id": "RMK_QPXC0YLX"
      },
      "execution_count": 514,
      "outputs": []
    },
    {
      "cell_type": "markdown",
      "source": [
        "##### Criação e Treinamento do Modelo"
      ],
      "metadata": {
        "id": "Gaxh1xR90q5r"
      }
    },
    {
      "cell_type": "code",
      "source": [
        "from sklearn.linear_model import LinearRegression\n",
        "from sklearn.metrics import mean_squared_error, r2_score, mean_absolute_error"
      ],
      "metadata": {
        "id": "SghFH6DP0c_t"
      },
      "execution_count": 515,
      "outputs": []
    },
    {
      "cell_type": "code",
      "source": [
        "# Criar e treinar o modelo\n",
        "model = LinearRegression()\n",
        "model.fit(X_train, y_train)"
      ],
      "metadata": {
        "colab": {
          "base_uri": "https://localhost:8080/",
          "height": 75
        },
        "id": "y9tmmjac0wm0",
        "outputId": "7bc899eb-8ea6-4826-a9c7-9137dff2720a"
      },
      "execution_count": 516,
      "outputs": [
        {
          "output_type": "execute_result",
          "data": {
            "text/plain": [
              "LinearRegression()"
            ],
            "text/html": [
              "<style>#sk-container-id-4 {color: black;}#sk-container-id-4 pre{padding: 0;}#sk-container-id-4 div.sk-toggleable {background-color: white;}#sk-container-id-4 label.sk-toggleable__label {cursor: pointer;display: block;width: 100%;margin-bottom: 0;padding: 0.3em;box-sizing: border-box;text-align: center;}#sk-container-id-4 label.sk-toggleable__label-arrow:before {content: \"▸\";float: left;margin-right: 0.25em;color: #696969;}#sk-container-id-4 label.sk-toggleable__label-arrow:hover:before {color: black;}#sk-container-id-4 div.sk-estimator:hover label.sk-toggleable__label-arrow:before {color: black;}#sk-container-id-4 div.sk-toggleable__content {max-height: 0;max-width: 0;overflow: hidden;text-align: left;background-color: #f0f8ff;}#sk-container-id-4 div.sk-toggleable__content pre {margin: 0.2em;color: black;border-radius: 0.25em;background-color: #f0f8ff;}#sk-container-id-4 input.sk-toggleable__control:checked~div.sk-toggleable__content {max-height: 200px;max-width: 100%;overflow: auto;}#sk-container-id-4 input.sk-toggleable__control:checked~label.sk-toggleable__label-arrow:before {content: \"▾\";}#sk-container-id-4 div.sk-estimator input.sk-toggleable__control:checked~label.sk-toggleable__label {background-color: #d4ebff;}#sk-container-id-4 div.sk-label input.sk-toggleable__control:checked~label.sk-toggleable__label {background-color: #d4ebff;}#sk-container-id-4 input.sk-hidden--visually {border: 0;clip: rect(1px 1px 1px 1px);clip: rect(1px, 1px, 1px, 1px);height: 1px;margin: -1px;overflow: hidden;padding: 0;position: absolute;width: 1px;}#sk-container-id-4 div.sk-estimator {font-family: monospace;background-color: #f0f8ff;border: 1px dotted black;border-radius: 0.25em;box-sizing: border-box;margin-bottom: 0.5em;}#sk-container-id-4 div.sk-estimator:hover {background-color: #d4ebff;}#sk-container-id-4 div.sk-parallel-item::after {content: \"\";width: 100%;border-bottom: 1px solid gray;flex-grow: 1;}#sk-container-id-4 div.sk-label:hover label.sk-toggleable__label {background-color: #d4ebff;}#sk-container-id-4 div.sk-serial::before {content: \"\";position: absolute;border-left: 1px solid gray;box-sizing: border-box;top: 0;bottom: 0;left: 50%;z-index: 0;}#sk-container-id-4 div.sk-serial {display: flex;flex-direction: column;align-items: center;background-color: white;padding-right: 0.2em;padding-left: 0.2em;position: relative;}#sk-container-id-4 div.sk-item {position: relative;z-index: 1;}#sk-container-id-4 div.sk-parallel {display: flex;align-items: stretch;justify-content: center;background-color: white;position: relative;}#sk-container-id-4 div.sk-item::before, #sk-container-id-4 div.sk-parallel-item::before {content: \"\";position: absolute;border-left: 1px solid gray;box-sizing: border-box;top: 0;bottom: 0;left: 50%;z-index: -1;}#sk-container-id-4 div.sk-parallel-item {display: flex;flex-direction: column;z-index: 1;position: relative;background-color: white;}#sk-container-id-4 div.sk-parallel-item:first-child::after {align-self: flex-end;width: 50%;}#sk-container-id-4 div.sk-parallel-item:last-child::after {align-self: flex-start;width: 50%;}#sk-container-id-4 div.sk-parallel-item:only-child::after {width: 0;}#sk-container-id-4 div.sk-dashed-wrapped {border: 1px dashed gray;margin: 0 0.4em 0.5em 0.4em;box-sizing: border-box;padding-bottom: 0.4em;background-color: white;}#sk-container-id-4 div.sk-label label {font-family: monospace;font-weight: bold;display: inline-block;line-height: 1.2em;}#sk-container-id-4 div.sk-label-container {text-align: center;}#sk-container-id-4 div.sk-container {/* jupyter's `normalize.less` sets `[hidden] { display: none; }` but bootstrap.min.css set `[hidden] { display: none !important; }` so we also need the `!important` here to be able to override the default hidden behavior on the sphinx rendered scikit-learn.org. See: https://github.com/scikit-learn/scikit-learn/issues/21755 */display: inline-block !important;position: relative;}#sk-container-id-4 div.sk-text-repr-fallback {display: none;}</style><div id=\"sk-container-id-4\" class=\"sk-top-container\"><div class=\"sk-text-repr-fallback\"><pre>LinearRegression()</pre><b>In a Jupyter environment, please rerun this cell to show the HTML representation or trust the notebook. <br />On GitHub, the HTML representation is unable to render, please try loading this page with nbviewer.org.</b></div><div class=\"sk-container\" hidden><div class=\"sk-item\"><div class=\"sk-estimator sk-toggleable\"><input class=\"sk-toggleable__control sk-hidden--visually\" id=\"sk-estimator-id-6\" type=\"checkbox\" checked><label for=\"sk-estimator-id-6\" class=\"sk-toggleable__label sk-toggleable__label-arrow\">LinearRegression</label><div class=\"sk-toggleable__content\"><pre>LinearRegression()</pre></div></div></div></div></div>"
            ]
          },
          "metadata": {},
          "execution_count": 516
        }
      ]
    },
    {
      "cell_type": "code",
      "source": [
        "# Realiazndo Previsões\n",
        "y_pred = model.predict(X_test)"
      ],
      "metadata": {
        "id": "zQIkq3-j0-7J"
      },
      "execution_count": 517,
      "outputs": []
    },
    {
      "cell_type": "code",
      "source": [
        "# Avaliando o Modelo\n",
        "mse = mean_squared_error(y_test, y_pred)\n",
        "mae = mean_absolute_error(y_test, y_pred)\n",
        "r2 = r2_score(y_test, y_pred)\n",
        "\n",
        "print(f'Mean Squared Error: {mse}')\n",
        "print(f'Mean Absolute Error: {mae}')\n",
        "print(f'R2 Score: {r2}')"
      ],
      "metadata": {
        "colab": {
          "base_uri": "https://localhost:8080/"
        },
        "id": "42EKQTUS1XQI",
        "outputId": "d22bdf56-60af-427c-cf65-c84f7e941aaa"
      },
      "execution_count": 518,
      "outputs": [
        {
          "output_type": "stream",
          "name": "stdout",
          "text": [
            "Mean Squared Error: 0.048277137854210374\n",
            "Mean Absolute Error: 0.16175618517303125\n",
            "R2 Score: 0.8694820030167274\n"
          ]
        }
      ]
    },
    {
      "cell_type": "code",
      "source": [
        "# Gráfico de Previsões vs. Valores Reais\n",
        "plt.scatter(y_test, y_pred, alpha=0.3)\n",
        "plt.xlabel('Valores Reais')\n",
        "plt.ylabel('Previsões')\n",
        "plt.title('Valores Reais vs. Previsões')\n",
        "plt.show()"
      ],
      "metadata": {
        "colab": {
          "base_uri": "https://localhost:8080/",
          "height": 573
        },
        "id": "A62RAAVj1dA2",
        "outputId": "efd6811a-75a2-459a-f1b0-da3af5ed1597"
      },
      "execution_count": 519,
      "outputs": [
        {
          "output_type": "display_data",
          "data": {
            "text/plain": [
              "<Figure size 1200x600 with 1 Axes>"
            ],
            "image/png": "[encoded data removed]"
          },
          "metadata": {}
        }
      ]
    },
    {
      "cell_type": "markdown",
      "source": [
        "## Ajustes de Modelo"
      ],
      "metadata": {
        "id": "rhrFj5-s198E"
      }
    },
    {
      "cell_type": "code",
      "source": [
        "from sklearn.model_selection import GridSearchCV\n",
        "from sklearn.ensemble import RandomForestRegressor"
      ],
      "metadata": {
        "id": "SlmmnCBU1tgC"
      },
      "execution_count": 520,
      "outputs": []
    },
    {
      "cell_type": "code",
      "source": [
        "# Definindo os parâmetros para ajuste\n",
        "param_grid = {\n",
        "    'n_estimators': [50, 100, 200],\n",
        "    'max_depth': [10, 20, 30]\n",
        "}"
      ],
      "metadata": {
        "id": "nundR58x2CsQ"
      },
      "execution_count": 521,
      "outputs": []
    },
    {
      "cell_type": "code",
      "source": [
        "# Criar o modelo\n",
        "rf = RandomForestRegressor()"
      ],
      "metadata": {
        "id": "704-OAce2Esl"
      },
      "execution_count": 522,
      "outputs": []
    },
    {
      "cell_type": "code",
      "source": [
        "# Criar o GridSearch\n",
        "grid_search = GridSearchCV(estimator=rf, param_grid=param_grid, cv=5, scoring='neg_mean_squared_error')"
      ],
      "metadata": {
        "id": "bM-RusYr2Ixy"
      },
      "execution_count": 523,
      "outputs": []
    },
    {
      "cell_type": "code",
      "source": [
        "# Ajustar o modelo\n",
        "grid_search.fit(X_train, y_train) # Essa etapa demorou cerca de 11 minutos"
      ],
      "metadata": {
        "colab": {
          "base_uri": "https://localhost:8080/",
          "height": 118
        },
        "id": "zEhldPnz2KP4",
        "outputId": "5ccbe5a4-3cc1-4da5-ffba-ac8e1d52eda8"
      },
      "execution_count": 524,
      "outputs": [
        {
          "output_type": "execute_result",
          "data": {
            "text/plain": [
              "GridSearchCV(cv=5, estimator=RandomForestRegressor(),\n",
              "             param_grid={'max_depth': [10, 20, 30],\n",
              "                         'n_estimators': [50, 100, 200]},\n",
              "             scoring='neg_mean_squared_error')"
            ],
            "text/html": [
              "<style>#sk-container-id-5 {color: black;}#sk-container-id-5 pre{padding: 0;}#sk-container-id-5 div.sk-toggleable {background-color: white;}#sk-container-id-5 label.sk-toggleable__label {cursor: pointer;display: block;width: 100%;margin-bottom: 0;padding: 0.3em;box-sizing: border-box;text-align: center;}#sk-container-id-5 label.sk-toggleable__label-arrow:before {content: \"▸\";float: left;margin-right: 0.25em;color: #696969;}#sk-container-id-5 label.sk-toggleable__label-arrow:hover:before {color: black;}#sk-container-id-5 div.sk-estimator:hover label.sk-toggleable__label-arrow:before {color: black;}#sk-container-id-5 div.sk-toggleable__content {max-height: 0;max-width: 0;overflow: hidden;text-align: left;background-color: #f0f8ff;}#sk-container-id-5 div.sk-toggleable__content pre {margin: 0.2em;color: black;border-radius: 0.25em;background-color: #f0f8ff;}#sk-container-id-5 input.sk-toggleable__control:checked~div.sk-toggleable__content {max-height: 200px;max-width: 100%;overflow: auto;}#sk-container-id-5 input.sk-toggleable__control:checked~label.sk-toggleable__label-arrow:before {content: \"▾\";}#sk-container-id-5 div.sk-estimator input.sk-toggleable__control:checked~label.sk-toggleable__label {background-color: #d4ebff;}#sk-container-id-5 div.sk-label input.sk-toggleable__control:checked~label.sk-toggleable__label {background-color: #d4ebff;}#sk-container-id-5 input.sk-hidden--visually {border: 0;clip: rect(1px 1px 1px 1px);clip: rect(1px, 1px, 1px, 1px);height: 1px;margin: -1px;overflow: hidden;padding: 0;position: absolute;width: 1px;}#sk-container-id-5 div.sk-estimator {font-family: monospace;background-color: #f0f8ff;border: 1px dotted black;border-radius: 0.25em;box-sizing: border-box;margin-bottom: 0.5em;}#sk-container-id-5 div.sk-estimator:hover {background-color: #d4ebff;}#sk-container-id-5 div.sk-parallel-item::after {content: \"\";width: 100%;border-bottom: 1px solid gray;flex-grow: 1;}#sk-container-id-5 div.sk-label:hover label.sk-toggleable__label {background-color: #d4ebff;}#sk-container-id-5 div.sk-serial::before {content: \"\";position: absolute;border-left: 1px solid gray;box-sizing: border-box;top: 0;bottom: 0;left: 50%;z-index: 0;}#sk-container-id-5 div.sk-serial {display: flex;flex-direction: column;align-items: center;background-color: white;padding-right: 0.2em;padding-left: 0.2em;position: relative;}#sk-container-id-5 div.sk-item {position: relative;z-index: 1;}#sk-container-id-5 div.sk-parallel {display: flex;align-items: stretch;justify-content: center;background-color: white;position: relative;}#sk-container-id-5 div.sk-item::before, #sk-container-id-5 div.sk-parallel-item::before {content: \"\";position: absolute;border-left: 1px solid gray;box-sizing: border-box;top: 0;bottom: 0;left: 50%;z-index: -1;}#sk-container-id-5 div.sk-parallel-item {display: flex;flex-direction: column;z-index: 1;position: relative;background-color: white;}#sk-container-id-5 div.sk-parallel-item:first-child::after {align-self: flex-end;width: 50%;}#sk-container-id-5 div.sk-parallel-item:last-child::after {align-self: flex-start;width: 50%;}#sk-container-id-5 div.sk-parallel-item:only-child::after {width: 0;}#sk-container-id-5 div.sk-dashed-wrapped {border: 1px dashed gray;margin: 0 0.4em 0.5em 0.4em;box-sizing: border-box;padding-bottom: 0.4em;background-color: white;}#sk-container-id-5 div.sk-label label {font-family: monospace;font-weight: bold;display: inline-block;line-height: 1.2em;}#sk-container-id-5 div.sk-label-container {text-align: center;}#sk-container-id-5 div.sk-container {/* jupyter's `normalize.less` sets `[hidden] { display: none; }` but bootstrap.min.css set `[hidden] { display: none !important; }` so we also need the `!important` here to be able to override the default hidden behavior on the sphinx rendered scikit-learn.org. See: https://github.com/scikit-learn/scikit-learn/issues/21755 */display: inline-block !important;position: relative;}#sk-container-id-5 div.sk-text-repr-fallback {display: none;}</style><div id=\"sk-container-id-5\" class=\"sk-top-container\"><div class=\"sk-text-repr-fallback\"><pre>GridSearchCV(cv=5, estimator=RandomForestRegressor(),\n",
              "             param_grid={&#x27;max_depth&#x27;: [10, 20, 30],\n",
              "                         &#x27;n_estimators&#x27;: [50, 100, 200]},\n",
              "             scoring=&#x27;neg_mean_squared_error&#x27;)</pre><b>In a Jupyter environment, please rerun this cell to show the HTML representation or trust the notebook. <br />On GitHub, the HTML representation is unable to render, please try loading this page with nbviewer.org.</b></div><div class=\"sk-container\" hidden><div class=\"sk-item sk-dashed-wrapped\"><div class=\"sk-label-container\"><div class=\"sk-label sk-toggleable\"><input class=\"sk-toggleable__control sk-hidden--visually\" id=\"sk-estimator-id-7\" type=\"checkbox\" ><label for=\"sk-estimator-id-7\" class=\"sk-toggleable__label sk-toggleable__label-arrow\">GridSearchCV</label><div class=\"sk-toggleable__content\"><pre>GridSearchCV(cv=5, estimator=RandomForestRegressor(),\n",
              "             param_grid={&#x27;max_depth&#x27;: [10, 20, 30],\n",
              "                         &#x27;n_estimators&#x27;: [50, 100, 200]},\n",
              "             scoring=&#x27;neg_mean_squared_error&#x27;)</pre></div></div></div><div class=\"sk-parallel\"><div class=\"sk-parallel-item\"><div class=\"sk-item\"><div class=\"sk-label-container\"><div class=\"sk-label sk-toggleable\"><input class=\"sk-toggleable__control sk-hidden--visually\" id=\"sk-estimator-id-8\" type=\"checkbox\" ><label for=\"sk-estimator-id-8\" class=\"sk-toggleable__label sk-toggleable__label-arrow\">estimator: RandomForestRegressor</label><div class=\"sk-toggleable__content\"><pre>RandomForestRegressor()</pre></div></div></div><div class=\"sk-serial\"><div class=\"sk-item\"><div class=\"sk-estimator sk-toggleable\"><input class=\"sk-toggleable__control sk-hidden--visually\" id=\"sk-estimator-id-9\" type=\"checkbox\" ><label for=\"sk-estimator-id-9\" class=\"sk-toggleable__label sk-toggleable__label-arrow\">RandomForestRegressor</label><div class=\"sk-toggleable__content\"><pre>RandomForestRegressor()</pre></div></div></div></div></div></div></div></div></div></div>"
            ]
          },
          "metadata": {},
          "execution_count": 524
        }
      ]
    },
    {
      "cell_type": "code",
      "source": [
        "# Melhor modelo\n",
        "best_model = grid_search.best_estimator_\n",
        "best_model"
      ],
      "metadata": {
        "colab": {
          "base_uri": "https://localhost:8080/",
          "height": 75
        },
        "id": "D24CG1Xb2M34",
        "outputId": "c1cebc55-f066-4b57-fd40-a647e9062046"
      },
      "execution_count": 525,
      "outputs": [
        {
          "output_type": "execute_result",
          "data": {
            "text/plain": [
              "RandomForestRegressor(max_depth=10, n_estimators=200)"
            ],
            "text/html": [
              "<style>#sk-container-id-6 {color: black;}#sk-container-id-6 pre{padding: 0;}#sk-container-id-6 div.sk-toggleable {background-color: white;}#sk-container-id-6 label.sk-toggleable__label {cursor: pointer;display: block;width: 100%;margin-bottom: 0;padding: 0.3em;box-sizing: border-box;text-align: center;}#sk-container-id-6 label.sk-toggleable__label-arrow:before {content: \"▸\";float: left;margin-right: 0.25em;color: #696969;}#sk-container-id-6 label.sk-toggleable__label-arrow:hover:before {color: black;}#sk-container-id-6 div.sk-estimator:hover label.sk-toggleable__label-arrow:before {color: black;}#sk-container-id-6 div.sk-toggleable__content {max-height: 0;max-width: 0;overflow: hidden;text-align: left;background-color: #f0f8ff;}#sk-container-id-6 div.sk-toggleable__content pre {margin: 0.2em;color: black;border-radius: 0.25em;background-color: #f0f8ff;}#sk-container-id-6 input.sk-toggleable__control:checked~div.sk-toggleable__content {max-height: 200px;max-width: 100%;overflow: auto;}#sk-container-id-6 input.sk-toggleable__control:checked~label.sk-toggleable__label-arrow:before {content: \"▾\";}#sk-container-id-6 div.sk-estimator input.sk-toggleable__control:checked~label.sk-toggleable__label {background-color: #d4ebff;}#sk-container-id-6 div.sk-label input.sk-toggleable__control:checked~label.sk-toggleable__label {background-color: #d4ebff;}#sk-container-id-6 input.sk-hidden--visually {border: 0;clip: rect(1px 1px 1px 1px);clip: rect(1px, 1px, 1px, 1px);height: 1px;margin: -1px;overflow: hidden;padding: 0;position: absolute;width: 1px;}#sk-container-id-6 div.sk-estimator {font-family: monospace;background-color: #f0f8ff;border: 1px dotted black;border-radius: 0.25em;box-sizing: border-box;margin-bottom: 0.5em;}#sk-container-id-6 div.sk-estimator:hover {background-color: #d4ebff;}#sk-container-id-6 div.sk-parallel-item::after {content: \"\";width: 100%;border-bottom: 1px solid gray;flex-grow: 1;}#sk-container-id-6 div.sk-label:hover label.sk-toggleable__label {background-color: #d4ebff;}#sk-container-id-6 div.sk-serial::before {content: \"\";position: absolute;border-left: 1px solid gray;box-sizing: border-box;top: 0;bottom: 0;left: 50%;z-index: 0;}#sk-container-id-6 div.sk-serial {display: flex;flex-direction: column;align-items: center;background-color: white;padding-right: 0.2em;padding-left: 0.2em;position: relative;}#sk-container-id-6 div.sk-item {position: relative;z-index: 1;}#sk-container-id-6 div.sk-parallel {display: flex;align-items: stretch;justify-content: center;background-color: white;position: relative;}#sk-container-id-6 div.sk-item::before, #sk-container-id-6 div.sk-parallel-item::before {content: \"\";position: absolute;border-left: 1px solid gray;box-sizing: border-box;top: 0;bottom: 0;left: 50%;z-index: -1;}#sk-container-id-6 div.sk-parallel-item {display: flex;flex-direction: column;z-index: 1;position: relative;background-color: white;}#sk-container-id-6 div.sk-parallel-item:first-child::after {align-self: flex-end;width: 50%;}#sk-container-id-6 div.sk-parallel-item:last-child::after {align-self: flex-start;width: 50%;}#sk-container-id-6 div.sk-parallel-item:only-child::after {width: 0;}#sk-container-id-6 div.sk-dashed-wrapped {border: 1px dashed gray;margin: 0 0.4em 0.5em 0.4em;box-sizing: border-box;padding-bottom: 0.4em;background-color: white;}#sk-container-id-6 div.sk-label label {font-family: monospace;font-weight: bold;display: inline-block;line-height: 1.2em;}#sk-container-id-6 div.sk-label-container {text-align: center;}#sk-container-id-6 div.sk-container {/* jupyter's `normalize.less` sets `[hidden] { display: none; }` but bootstrap.min.css set `[hidden] { display: none !important; }` so we also need the `!important` here to be able to override the default hidden behavior on the sphinx rendered scikit-learn.org. See: https://github.com/scikit-learn/scikit-learn/issues/21755 */display: inline-block !important;position: relative;}#sk-container-id-6 div.sk-text-repr-fallback {display: none;}</style><div id=\"sk-container-id-6\" class=\"sk-top-container\"><div class=\"sk-text-repr-fallback\"><pre>RandomForestRegressor(max_depth=10, n_estimators=200)</pre><b>In a Jupyter environment, please rerun this cell to show the HTML representation or trust the notebook. <br />On GitHub, the HTML representation is unable to render, please try loading this page with nbviewer.org.</b></div><div class=\"sk-container\" hidden><div class=\"sk-item\"><div class=\"sk-estimator sk-toggleable\"><input class=\"sk-toggleable__control sk-hidden--visually\" id=\"sk-estimator-id-10\" type=\"checkbox\" checked><label for=\"sk-estimator-id-10\" class=\"sk-toggleable__label sk-toggleable__label-arrow\">RandomForestRegressor</label><div class=\"sk-toggleable__content\"><pre>RandomForestRegressor(max_depth=10, n_estimators=200)</pre></div></div></div></div></div>"
            ]
          },
          "metadata": {},
          "execution_count": 525
        }
      ]
    },
    {
      "cell_type": "code",
      "source": [
        "y_pred = best_model.predict(X_test)"
      ],
      "metadata": {
        "id": "5kgAGZwd55Bv"
      },
      "execution_count": 526,
      "outputs": []
    },
    {
      "cell_type": "code",
      "source": [
        "# Avaliando o Modelo\n",
        "mse = mean_squared_error(y_test, y_pred)\n",
        "mae = mean_absolute_error(y_test, y_pred)\n",
        "r2 = r2_score(y_test, y_pred)\n",
        "\n",
        "print(f'Mean Squared Error: {mse}')\n",
        "print(f'Mean Absolute Error: {mae}')\n",
        "print(f'R2 Score: {r2}')"
      ],
      "metadata": {
        "colab": {
          "base_uri": "https://localhost:8080/"
        },
        "id": "79bDXN0-56C6",
        "outputId": "258cfe61-7b03-404d-8fb9-d1643e7bf46b"
      },
      "execution_count": 527,
      "outputs": [
        {
          "output_type": "stream",
          "name": "stdout",
          "text": [
            "Mean Squared Error: 0.004329838585696128\n",
            "Mean Absolute Error: 0.008451426401045355\n",
            "R2 Score: 0.9882942136882156\n"
          ]
        }
      ]
    },
    {
      "cell_type": "code",
      "source": [
        "from sklearn.model_selection import cross_val_score\n",
        "\n",
        "# Realizar validação cruzada\n",
        "cv_scores = cross_val_score(best_model, X, y, cv=5, scoring='neg_mean_squared_error')\n",
        "print(f'CV Mean Squared Error: {-cv_scores.mean()}')"
      ],
      "metadata": {
        "colab": {
          "base_uri": "https://localhost:8080/"
        },
        "id": "V7JwBo5D47sa",
        "outputId": "ffd3af47-c09d-4788-bd19-a3f35e0977fd"
      },
      "execution_count": 528,
      "outputs": [
        {
          "output_type": "stream",
          "name": "stdout",
          "text": [
            "CV Mean Squared Error: 0.004366292892504102\n"
          ]
        }
      ]
    },
    {
      "cell_type": "markdown",
      "source": [
        "## Salvando o Modelo em .pkl"
      ],
      "metadata": {
        "id": "asbPlN6G6Qxy"
      }
    },
    {
      "cell_type": "code",
      "source": [
        "import joblib\n",
        "\n",
        "# Salvar o modelo\n",
        "joblib.dump(best_model, 'adv_works_model.pkl')"
      ],
      "metadata": {
        "colab": {
          "base_uri": "https://localhost:8080/"
        },
        "id": "4-hZ_dip5IQb",
        "outputId": "2a00eeee-ff21-4f3b-d067-c1b72ae06db8"
      },
      "execution_count": 529,
      "outputs": [
        {
          "output_type": "execute_result",
          "data": {
            "text/plain": [
              "['adv_works_model.pkl']"
            ]
          },
          "metadata": {},
          "execution_count": 529
        }
      ]
    },
    {
      "cell_type": "markdown",
      "source": [
        "## Importância das Features"
      ],
      "metadata": {
        "id": "lBdmNaTFPebO"
      }
    },
    {
      "cell_type": "code",
      "source": [
        "feature_importances = best_model.feature_importances_\n",
        "\n",
        "# Criar um DataFrame para visualização\n",
        "feature_importances_df = pd.DataFrame({\n",
        "    'Feature': X_train.columns,\n",
        "    'Importance': feature_importances\n",
        "}).sort_values(by='Importance', ascending=False)"
      ],
      "metadata": {
        "id": "phn41SmkPn1A"
      },
      "execution_count": 531,
      "outputs": []
    },
    {
      "cell_type": "code",
      "source": [
        "top_n = 5\n",
        "top_features = feature_importances_df.head(top_n)"
      ],
      "metadata": {
        "id": "t6rqtLxeI9yG"
      },
      "execution_count": 536,
      "outputs": []
    },
    {
      "cell_type": "code",
      "source": [
        "plt.barh(top_features['Feature'], top_features['Importance'])\n",
        "plt.xlabel('Importance')\n",
        "plt.ylabel('Feature')\n",
        "plt.title(f'Top {top_n} Feature Importances')\n",
        "plt.gca().invert_yaxis()\n",
        "plt.show()"
      ],
      "metadata": {
        "colab": {
          "base_uri": "https://localhost:8080/",
          "height": 573
        },
        "id": "rYy6qCLEPjMV",
        "outputId": "83fadfdc-b500-4078-efc7-4756ccb3cea2"
      },
      "execution_count": 537,
      "outputs": [
        {
          "output_type": "display_data",
          "data": {
            "text/plain": [
              "<Figure size 1200x600 with 1 Axes>"
            ],
            "image/png": "[encoded data removed]"
          },
          "metadata": {}
        }
      ]
    },
    {
      "cell_type": "code",
      "source": [],
      "metadata": {
        "id": "GFsTqEA5PpVN"
      },
      "execution_count": null,
      "outputs": []
    }
  ]
}